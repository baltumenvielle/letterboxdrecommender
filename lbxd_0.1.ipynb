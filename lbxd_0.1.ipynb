{
  "cells": [
    {
      "cell_type": "markdown",
      "metadata": {
        "id": "bI5mdVXnrpgm"
      },
      "source": [
        "# Sistema de Recomendación de Películas\n",
        "\n",
        "Este notebook crea un sistema de recomendación que sugiere películas del Top 250 de IMDB basado en:\n",
        "- Tus ratings de Letterboxd\n",
        "- Rating en IMDB\n",
        "- Año de la película\n",
        "- Géneros\n",
        "- Actores involucrados\n",
        "- Directores"
      ]
    },
    {
      "cell_type": "markdown",
      "metadata": {
        "id": "AgN_q9Zwrz2X"
      },
      "source": [
        "## 1. Configuración Inicial\n",
        "Primero, instalamos e importamos las librerías necesarias."
      ]
    },
    {
      "cell_type": "code",
      "execution_count": null,
      "metadata": {
        "colab": {
          "base_uri": "https://localhost:8080/"
        },
        "collapsed": true,
        "id": "vOFjBrxFqFBK",
        "outputId": "5cb1de51-8282-4552-ce88-e68d8c004282"
      },
      "outputs": [],
      "source": [
        "# Instalación de paquetes (ejecutar solo una vez)\n",
        "!pip install imdbpy scikit-learn pandas numpy matplotlib seaborn"
      ]
    },
    {
      "cell_type": "code",
      "execution_count": 2,
      "metadata": {
        "id": "_Ny-ZCyLqJcG"
      },
      "outputs": [],
      "source": [
        "# Importaciones\n",
        "import pandas as pd\n",
        "import numpy as np\n",
        "from imdb import IMDb\n",
        "from sklearn.neighbors import NearestNeighbors\n",
        "from sklearn.preprocessing import MultiLabelBinarizer, MinMaxScaler\n",
        "from sklearn.pipeline import Pipeline\n",
        "from sklearn.compose import ColumnTransformer\n",
        "import matplotlib.pyplot as plt\n",
        "import seaborn as sns\n",
        "from tqdm import tqdm\n",
        "import warnings\n",
        "\n",
        "# Configuración\n",
        "warnings.filterwarnings('ignore')\n",
        "pd.set_option('display.max_columns', None)\n",
        "sns.set_style(\"whitegrid\")\n",
        "ia = IMDb()"
      ]
    },
    {
      "cell_type": "markdown",
      "metadata": {
        "id": "p0pceKugsCAh"
      },
      "source": [
        "## 2. Carga de Datos\n",
        "\n",
        "Cargamos tus ratings de Letterboxd y el Top 250 de IMDB.\n",
        "\n",
        "**Nota**: Asumo que tienes estos archivos CSV. Si no, puedes cargar los datos directamente desde IMDB."
      ]
    },
    {
      "cell_type": "code",
      "execution_count": 3,
      "metadata": {
        "id": "AzOURJlgsQ3b"
      },
      "outputs": [],
      "source": [
        "def cargar_datos():\n",
        "    \"\"\"Carga y prepara los datasets\"\"\"\n",
        "    # Cargar tus ratings de Letterboxd (ajusta los nombres de columnas)\n",
        "    letterboxd = pd.read_csv('letterboxd_ratings.csv')\n",
        "    letterboxd = letterboxd.rename(columns={\n",
        "        'Name': 'title',\n",
        "        'Year': 'year',\n",
        "        'Rating': 'rating'\n",
        "    })\n",
        "\n",
        "    # Cargar Top 250 de IMDB (puedes generarlo con imdbpy si no tienes el CSV)\n",
        "    imdb_top = pd.read_csv('imdb_top250.csv')\n",
        "    imdb_top = imdb_top.rename(columns={\n",
        "        'name': 'title',\n",
        "        'year': 'year',\n",
        "        'rating': 'imdb_rating'\n",
        "    })\n",
        "\n",
        "    return letterboxd, imdb_top"
      ]
    },
    {
      "cell_type": "code",
      "execution_count": 4,
      "metadata": {
        "colab": {
          "base_uri": "https://localhost:8080/",
          "height": 259
        },
        "id": "UXWvCs5UusqY",
        "outputId": "cf74e38e-3119-40e0-dfbb-2a6595cc87aa"
      },
      "outputs": [
        {
          "name": "stdout",
          "output_type": "stream",
          "text": [
            "Tus ratings:\n"
          ]
        },
        {
          "data": {
            "text/html": [
              "<div>\n",
              "<style scoped>\n",
              "    .dataframe tbody tr th:only-of-type {\n",
              "        vertical-align: middle;\n",
              "    }\n",
              "\n",
              "    .dataframe tbody tr th {\n",
              "        vertical-align: top;\n",
              "    }\n",
              "\n",
              "    .dataframe thead th {\n",
              "        text-align: right;\n",
              "    }\n",
              "</style>\n",
              "<table border=\"1\" class=\"dataframe\">\n",
              "  <thead>\n",
              "    <tr style=\"text-align: right;\">\n",
              "      <th></th>\n",
              "      <th>Date</th>\n",
              "      <th>title</th>\n",
              "      <th>year</th>\n",
              "      <th>Letterboxd URI</th>\n",
              "      <th>rating</th>\n",
              "    </tr>\n",
              "  </thead>\n",
              "  <tbody>\n",
              "    <tr>\n",
              "      <th>0</th>\n",
              "      <td>2025-01-19</td>\n",
              "      <td>The Godfather</td>\n",
              "      <td>1972</td>\n",
              "      <td>https://boxd.it/2aNK</td>\n",
              "      <td>5.0</td>\n",
              "    </tr>\n",
              "    <tr>\n",
              "      <th>1</th>\n",
              "      <td>2025-01-19</td>\n",
              "      <td>Good Will Hunting</td>\n",
              "      <td>1997</td>\n",
              "      <td>https://boxd.it/2ahY</td>\n",
              "      <td>5.0</td>\n",
              "    </tr>\n",
              "  </tbody>\n",
              "</table>\n",
              "</div>"
            ],
            "text/plain": [
              "         Date              title  year        Letterboxd URI  rating\n",
              "0  2025-01-19      The Godfather  1972  https://boxd.it/2aNK     5.0\n",
              "1  2025-01-19  Good Will Hunting  1997  https://boxd.it/2ahY     5.0"
            ]
          },
          "metadata": {},
          "output_type": "display_data"
        },
        {
          "name": "stdout",
          "output_type": "stream",
          "text": [
            "\n",
            "Top 250 de IMDB:\n"
          ]
        },
        {
          "data": {
            "text/html": [
              "<div>\n",
              "<style scoped>\n",
              "    .dataframe tbody tr th:only-of-type {\n",
              "        vertical-align: middle;\n",
              "    }\n",
              "\n",
              "    .dataframe tbody tr th {\n",
              "        vertical-align: top;\n",
              "    }\n",
              "\n",
              "    .dataframe thead th {\n",
              "        text-align: right;\n",
              "    }\n",
              "</style>\n",
              "<table border=\"1\" class=\"dataframe\">\n",
              "  <thead>\n",
              "    <tr style=\"text-align: right;\">\n",
              "      <th></th>\n",
              "      <th>rank</th>\n",
              "      <th>title</th>\n",
              "      <th>year</th>\n",
              "      <th>imdb_rating</th>\n",
              "      <th>genre</th>\n",
              "      <th>certificate</th>\n",
              "      <th>run_time</th>\n",
              "      <th>tagline</th>\n",
              "      <th>budget</th>\n",
              "      <th>box_office</th>\n",
              "      <th>casts</th>\n",
              "      <th>directors</th>\n",
              "      <th>writers</th>\n",
              "    </tr>\n",
              "  </thead>\n",
              "  <tbody>\n",
              "    <tr>\n",
              "      <th>0</th>\n",
              "      <td>1</td>\n",
              "      <td>The Shawshank Redemption</td>\n",
              "      <td>1994</td>\n",
              "      <td>9.3</td>\n",
              "      <td>Drama</td>\n",
              "      <td>R</td>\n",
              "      <td>2h 22m</td>\n",
              "      <td>Fear can hold you prisoner. Hope can set you f...</td>\n",
              "      <td>25000000</td>\n",
              "      <td>28884504</td>\n",
              "      <td>Tim Robbins,Morgan Freeman,Bob Gunton,William ...</td>\n",
              "      <td>Frank Darabont</td>\n",
              "      <td>Stephen King,Frank Darabont</td>\n",
              "    </tr>\n",
              "    <tr>\n",
              "      <th>1</th>\n",
              "      <td>2</td>\n",
              "      <td>The Godfather</td>\n",
              "      <td>1972</td>\n",
              "      <td>9.2</td>\n",
              "      <td>Crime,Drama</td>\n",
              "      <td>R</td>\n",
              "      <td>2h 55m</td>\n",
              "      <td>An offer you can't refuse.</td>\n",
              "      <td>6000000</td>\n",
              "      <td>250341816</td>\n",
              "      <td>Marlon Brando,Al Pacino,James Caan,Diane Keato...</td>\n",
              "      <td>Francis Ford Coppola</td>\n",
              "      <td>Mario Puzo,Francis Ford Coppola</td>\n",
              "    </tr>\n",
              "  </tbody>\n",
              "</table>\n",
              "</div>"
            ],
            "text/plain": [
              "   rank                     title  year  imdb_rating        genre certificate  \\\n",
              "0     1  The Shawshank Redemption  1994          9.3        Drama           R   \n",
              "1     2             The Godfather  1972          9.2  Crime,Drama           R   \n",
              "\n",
              "  run_time                                            tagline    budget  \\\n",
              "0   2h 22m  Fear can hold you prisoner. Hope can set you f...  25000000   \n",
              "1   2h 55m                         An offer you can't refuse.   6000000   \n",
              "\n",
              "  box_office                                              casts  \\\n",
              "0   28884504  Tim Robbins,Morgan Freeman,Bob Gunton,William ...   \n",
              "1  250341816  Marlon Brando,Al Pacino,James Caan,Diane Keato...   \n",
              "\n",
              "              directors                          writers  \n",
              "0        Frank Darabont      Stephen King,Frank Darabont  \n",
              "1  Francis Ford Coppola  Mario Puzo,Francis Ford Coppola  "
            ]
          },
          "metadata": {},
          "output_type": "display_data"
        }
      ],
      "source": [
        "letterboxd_ratings, imdb_top250 = cargar_datos()\n",
        "\n",
        "# Mostrar datos\n",
        "print(\"Tus ratings:\")\n",
        "display(letterboxd_ratings.head(2))\n",
        "print(\"\\nTop 250 de IMDB:\")\n",
        "display(imdb_top250.head(2))"
      ]
    },
    {
      "cell_type": "markdown",
      "metadata": {
        "id": "dimBOwb9sXn5"
      },
      "source": [
        "## 3. Enriquecimiento de Datos\n",
        "\n",
        "Vamos a obtener información adicional de IMDB para tus películas calificadas."
      ]
    },
    {
      "cell_type": "code",
      "execution_count": 5,
      "metadata": {
        "id": "xg9l5jBfsYB8"
      },
      "outputs": [],
      "source": [
        "def obtener_info_imdb(title, year, max_intentos=3):\n",
        "    \"\"\"Obtiene datos de IMDB con manejo de errores\"\"\"\n",
        "    for _ in range(max_intentos):\n",
        "        try:\n",
        "            resultados = ia.search_movie(f\"{title} {year}\")\n",
        "            if not resultados:\n",
        "                return None\n",
        "\n",
        "            pelicula = ia.get_movie(resultados[0].movieID)\n",
        "\n",
        "            return {\n",
        "                'title': pelicula.get('title', title),\n",
        "                'year': pelicula.get('year', year),\n",
        "                'imdb_rating': pelicula.get('rating', np.nan),\n",
        "                'genres': pelicula.get('genres', []),\n",
        "                'directors': [d['name'] for d in pelicula.get('directors', [])],\n",
        "                'actors': [a['name'] for a in pelicula.get('actors', [])[:3]],\n",
        "                'runtime': pelicula.get('runtime', [0])[0] if pelicula.get('runtime') else 0\n",
        "            }\n",
        "        except Exception as e:\n",
        "            continue\n",
        "    return None"
      ]
    },
    {
      "cell_type": "code",
      "execution_count": 6,
      "metadata": {
        "id": "OqaYIP6Guwvo"
      },
      "outputs": [],
      "source": [
        "def enriquecer_datos(df, es_letterboxd=True):\n",
        "    \"\"\"Añade datos de IMDB a un DataFrame\"\"\"\n",
        "    datos_enriquecidos = []\n",
        "\n",
        "    for _, fila in tqdm(df.iterrows(), total=len(df)):\n",
        "        info = obtener_info_imdb(str(fila['title']), fila['year'])\n",
        "\n",
        "        if info:\n",
        "            if es_letterboxd:\n",
        "                info['user_rating'] = fila['rating']\n",
        "            datos_enriquecidos.append(info)\n",
        "\n",
        "    return pd.DataFrame(datos_enriquecidos)"
      ]
    },
    {
      "cell_type": "code",
      "execution_count": 7,
      "metadata": {
        "colab": {
          "base_uri": "https://localhost:8080/",
          "height": 408
        },
        "id": "Ic5lfW_RuyNR",
        "outputId": "29ce0cc1-a78d-4276-a388-bfd63d525286"
      },
      "outputs": [
        {
          "name": "stdout",
          "output_type": "stream",
          "text": [
            "\n",
            "Enriqueciendo tus ratings de Letterboxd...\n"
          ]
        },
        {
          "name": "stderr",
          "output_type": "stream",
          "text": [
            "100%|██████████| 269/269 [35:13<00:00,  7.86s/it]\n"
          ]
        },
        {
          "name": "stdout",
          "output_type": "stream",
          "text": [
            "\n",
            "Enriqueciendo Top 250 de IMDB...\n"
          ]
        },
        {
          "name": "stderr",
          "output_type": "stream",
          "text": [
            "100%|██████████| 250/250 [30:37<00:00,  7.35s/it]"
          ]
        },
        {
          "name": "stdout",
          "output_type": "stream",
          "text": [
            "\n",
            "Películas enriquecidas: 269/269\n"
          ]
        },
        {
          "name": "stderr",
          "output_type": "stream",
          "text": [
            "\n"
          ]
        },
        {
          "data": {
            "text/html": [
              "<div>\n",
              "<style scoped>\n",
              "    .dataframe tbody tr th:only-of-type {\n",
              "        vertical-align: middle;\n",
              "    }\n",
              "\n",
              "    .dataframe tbody tr th {\n",
              "        vertical-align: top;\n",
              "    }\n",
              "\n",
              "    .dataframe thead th {\n",
              "        text-align: right;\n",
              "    }\n",
              "</style>\n",
              "<table border=\"1\" class=\"dataframe\">\n",
              "  <thead>\n",
              "    <tr style=\"text-align: right;\">\n",
              "      <th></th>\n",
              "      <th>title</th>\n",
              "      <th>year</th>\n",
              "      <th>imdb_rating</th>\n",
              "      <th>genres</th>\n",
              "      <th>directors</th>\n",
              "      <th>actors</th>\n",
              "      <th>runtime</th>\n",
              "      <th>user_rating</th>\n",
              "    </tr>\n",
              "  </thead>\n",
              "  <tbody>\n",
              "    <tr>\n",
              "      <th>0</th>\n",
              "      <td>The Godfather</td>\n",
              "      <td>1972</td>\n",
              "      <td>9.2</td>\n",
              "      <td>[Crime, Drama]</td>\n",
              "      <td>[Francis Ford Coppola]</td>\n",
              "      <td>[Marlon Brando, Al Pacino, James Caan]</td>\n",
              "      <td>175</td>\n",
              "      <td>5.0</td>\n",
              "    </tr>\n",
              "    <tr>\n",
              "      <th>1</th>\n",
              "      <td>Good Will Hunting</td>\n",
              "      <td>1997</td>\n",
              "      <td>8.3</td>\n",
              "      <td>[Drama, Romance]</td>\n",
              "      <td>[Gus Van Sant]</td>\n",
              "      <td>[Matt Damon, Ben Affleck, Stellan Skarsgård]</td>\n",
              "      <td>126</td>\n",
              "      <td>5.0</td>\n",
              "    </tr>\n",
              "  </tbody>\n",
              "</table>\n",
              "</div>"
            ],
            "text/plain": [
              "               title  year  imdb_rating            genres  \\\n",
              "0      The Godfather  1972          9.2    [Crime, Drama]   \n",
              "1  Good Will Hunting  1997          8.3  [Drama, Romance]   \n",
              "\n",
              "                directors                                        actors  \\\n",
              "0  [Francis Ford Coppola]        [Marlon Brando, Al Pacino, James Caan]   \n",
              "1          [Gus Van Sant]  [Matt Damon, Ben Affleck, Stellan Skarsgård]   \n",
              "\n",
              "  runtime  user_rating  \n",
              "0     175          5.0  \n",
              "1     126          5.0  "
            ]
          },
          "metadata": {},
          "output_type": "display_data"
        }
      ],
      "source": [
        "# Enriquecer datos (puede tardar varios minutos)\n",
        "print(\"\\nEnriqueciendo tus ratings de Letterboxd...\")\n",
        "letterboxd_enriched = enriquecer_datos(letterboxd_ratings)\n",
        "\n",
        "print(\"\\nEnriqueciendo Top 250 de IMDB...\")\n",
        "imdb_enriched = enriquecer_datos(imdb_top250, es_letterboxd=False)\n",
        "\n",
        "# Mostrar resultados\n",
        "print(f\"\\nPelículas enriquecidas: {len(letterboxd_enriched)}/{len(letterboxd_ratings)}\")\n",
        "display(letterboxd_enriched.head(2))"
      ]
    },
    {
      "cell_type": "code",
      "execution_count": 8,
      "metadata": {
        "id": "nqcx8hJ9wHAm"
      },
      "outputs": [],
      "source": [
        "letterboxd_enriched.to_csv(\"letterboxd_enriched.csv\", index=False)\n",
        "imdb_enriched.to_csv(\"imdb_enriched.csv\", index=False)"
      ]
    },
    {
      "cell_type": "code",
      "execution_count": 9,
      "metadata": {
        "id": "xkmWMuSoFODN"
      },
      "outputs": [],
      "source": [
        "letterboxd_enriched = pd.read_csv(\"letterboxd_enriched.csv\")\n",
        "imdb_enriched = pd.read_csv(\"imdb_enriched.csv\")"
      ]
    },
    {
      "cell_type": "markdown",
      "metadata": {
        "id": "CM80dUvductv"
      },
      "source": [
        "## 4. Preprocesamiento de Datos"
      ]
    },
    {
      "cell_type": "code",
      "execution_count": 10,
      "metadata": {
        "id": "qisb6_hxudvJ"
      },
      "outputs": [],
      "source": [
        "# Combinar los datos para el modelo\n",
        "all_movies = pd.concat([letterboxd_enriched, imdb_enriched]).drop_duplicates(['title', 'year'])"
      ]
    },
    {
      "cell_type": "code",
      "execution_count": 11,
      "metadata": {
        "id": "vWJjTRwRuzsD"
      },
      "outputs": [],
      "source": [
        "# Convertir géneros, directores y actores en características binarias\n",
        "genres_mlb = MultiLabelBinarizer()\n",
        "genres_encoded = genres_mlb.fit_transform(all_movies['genres'])\n",
        "\n",
        "directors_mlb = MultiLabelBinarizer()\n",
        "directors_encoded = directors_mlb.fit_transform(all_movies['directors'])\n",
        "\n",
        "actors_mlb = MultiLabelBinarizer()\n",
        "actors_encoded = actors_mlb.fit_transform(all_movies['actors'])\n"
      ]
    },
    {
      "cell_type": "code",
      "execution_count": 12,
      "metadata": {
        "id": "uSO38EM2FXNm"
      },
      "outputs": [],
      "source": [
        "# Escalar características numéricas\n",
        "scaler = MinMaxScaler()\n",
        "numerical_features = scaler.fit_transform(all_movies[['year', 'imdb_rating', 'user_rating']].fillna(0))"
      ]
    },
    {
      "cell_type": "markdown",
      "metadata": {
        "id": "mQRZhKybufd7"
      },
      "source": [
        "## 5. Modelado y Recomendación"
      ]
    },
    {
      "cell_type": "code",
      "execution_count": 13,
      "metadata": {
        "id": "Jx3fF3N5FZM_"
      },
      "outputs": [],
      "source": [
        "# Combinar todas las características\n",
        "all_features = np.hstack([\n",
        "    numerical_features,\n",
        "    genres_encoded,\n",
        "    directors_encoded,\n",
        "    actors_encoded\n",
        "])"
      ]
    },
    {
      "cell_type": "code",
      "execution_count": 14,
      "metadata": {
        "colab": {
          "base_uri": "https://localhost:8080/",
          "height": 80
        },
        "id": "GWPFnM-RFhe5",
        "outputId": "a95353b5-4562-4ab2-eab4-9ce6f924287b"
      },
      "outputs": [
        {
          "data": {
            "text/html": [
              "<style>#sk-container-id-1 {\n",
              "  /* Definition of color scheme common for light and dark mode */\n",
              "  --sklearn-color-text: #000;\n",
              "  --sklearn-color-text-muted: #666;\n",
              "  --sklearn-color-line: gray;\n",
              "  /* Definition of color scheme for unfitted estimators */\n",
              "  --sklearn-color-unfitted-level-0: #fff5e6;\n",
              "  --sklearn-color-unfitted-level-1: #f6e4d2;\n",
              "  --sklearn-color-unfitted-level-2: #ffe0b3;\n",
              "  --sklearn-color-unfitted-level-3: chocolate;\n",
              "  /* Definition of color scheme for fitted estimators */\n",
              "  --sklearn-color-fitted-level-0: #f0f8ff;\n",
              "  --sklearn-color-fitted-level-1: #d4ebff;\n",
              "  --sklearn-color-fitted-level-2: #b3dbfd;\n",
              "  --sklearn-color-fitted-level-3: cornflowerblue;\n",
              "\n",
              "  /* Specific color for light theme */\n",
              "  --sklearn-color-text-on-default-background: var(--sg-text-color, var(--theme-code-foreground, var(--jp-content-font-color1, black)));\n",
              "  --sklearn-color-background: var(--sg-background-color, var(--theme-background, var(--jp-layout-color0, white)));\n",
              "  --sklearn-color-border-box: var(--sg-text-color, var(--theme-code-foreground, var(--jp-content-font-color1, black)));\n",
              "  --sklearn-color-icon: #696969;\n",
              "\n",
              "  @media (prefers-color-scheme: dark) {\n",
              "    /* Redefinition of color scheme for dark theme */\n",
              "    --sklearn-color-text-on-default-background: var(--sg-text-color, var(--theme-code-foreground, var(--jp-content-font-color1, white)));\n",
              "    --sklearn-color-background: var(--sg-background-color, var(--theme-background, var(--jp-layout-color0, #111)));\n",
              "    --sklearn-color-border-box: var(--sg-text-color, var(--theme-code-foreground, var(--jp-content-font-color1, white)));\n",
              "    --sklearn-color-icon: #878787;\n",
              "  }\n",
              "}\n",
              "\n",
              "#sk-container-id-1 {\n",
              "  color: var(--sklearn-color-text);\n",
              "}\n",
              "\n",
              "#sk-container-id-1 pre {\n",
              "  padding: 0;\n",
              "}\n",
              "\n",
              "#sk-container-id-1 input.sk-hidden--visually {\n",
              "  border: 0;\n",
              "  clip: rect(1px 1px 1px 1px);\n",
              "  clip: rect(1px, 1px, 1px, 1px);\n",
              "  height: 1px;\n",
              "  margin: -1px;\n",
              "  overflow: hidden;\n",
              "  padding: 0;\n",
              "  position: absolute;\n",
              "  width: 1px;\n",
              "}\n",
              "\n",
              "#sk-container-id-1 div.sk-dashed-wrapped {\n",
              "  border: 1px dashed var(--sklearn-color-line);\n",
              "  margin: 0 0.4em 0.5em 0.4em;\n",
              "  box-sizing: border-box;\n",
              "  padding-bottom: 0.4em;\n",
              "  background-color: var(--sklearn-color-background);\n",
              "}\n",
              "\n",
              "#sk-container-id-1 div.sk-container {\n",
              "  /* jupyter's `normalize.less` sets `[hidden] { display: none; }`\n",
              "     but bootstrap.min.css set `[hidden] { display: none !important; }`\n",
              "     so we also need the `!important` here to be able to override the\n",
              "     default hidden behavior on the sphinx rendered scikit-learn.org.\n",
              "     See: https://github.com/scikit-learn/scikit-learn/issues/21755 */\n",
              "  display: inline-block !important;\n",
              "  position: relative;\n",
              "}\n",
              "\n",
              "#sk-container-id-1 div.sk-text-repr-fallback {\n",
              "  display: none;\n",
              "}\n",
              "\n",
              "div.sk-parallel-item,\n",
              "div.sk-serial,\n",
              "div.sk-item {\n",
              "  /* draw centered vertical line to link estimators */\n",
              "  background-image: linear-gradient(var(--sklearn-color-text-on-default-background), var(--sklearn-color-text-on-default-background));\n",
              "  background-size: 2px 100%;\n",
              "  background-repeat: no-repeat;\n",
              "  background-position: center center;\n",
              "}\n",
              "\n",
              "/* Parallel-specific style estimator block */\n",
              "\n",
              "#sk-container-id-1 div.sk-parallel-item::after {\n",
              "  content: \"\";\n",
              "  width: 100%;\n",
              "  border-bottom: 2px solid var(--sklearn-color-text-on-default-background);\n",
              "  flex-grow: 1;\n",
              "}\n",
              "\n",
              "#sk-container-id-1 div.sk-parallel {\n",
              "  display: flex;\n",
              "  align-items: stretch;\n",
              "  justify-content: center;\n",
              "  background-color: var(--sklearn-color-background);\n",
              "  position: relative;\n",
              "}\n",
              "\n",
              "#sk-container-id-1 div.sk-parallel-item {\n",
              "  display: flex;\n",
              "  flex-direction: column;\n",
              "}\n",
              "\n",
              "#sk-container-id-1 div.sk-parallel-item:first-child::after {\n",
              "  align-self: flex-end;\n",
              "  width: 50%;\n",
              "}\n",
              "\n",
              "#sk-container-id-1 div.sk-parallel-item:last-child::after {\n",
              "  align-self: flex-start;\n",
              "  width: 50%;\n",
              "}\n",
              "\n",
              "#sk-container-id-1 div.sk-parallel-item:only-child::after {\n",
              "  width: 0;\n",
              "}\n",
              "\n",
              "/* Serial-specific style estimator block */\n",
              "\n",
              "#sk-container-id-1 div.sk-serial {\n",
              "  display: flex;\n",
              "  flex-direction: column;\n",
              "  align-items: center;\n",
              "  background-color: var(--sklearn-color-background);\n",
              "  padding-right: 1em;\n",
              "  padding-left: 1em;\n",
              "}\n",
              "\n",
              "\n",
              "/* Toggleable style: style used for estimator/Pipeline/ColumnTransformer box that is\n",
              "clickable and can be expanded/collapsed.\n",
              "- Pipeline and ColumnTransformer use this feature and define the default style\n",
              "- Estimators will overwrite some part of the style using the `sk-estimator` class\n",
              "*/\n",
              "\n",
              "/* Pipeline and ColumnTransformer style (default) */\n",
              "\n",
              "#sk-container-id-1 div.sk-toggleable {\n",
              "  /* Default theme specific background. It is overwritten whether we have a\n",
              "  specific estimator or a Pipeline/ColumnTransformer */\n",
              "  background-color: var(--sklearn-color-background);\n",
              "}\n",
              "\n",
              "/* Toggleable label */\n",
              "#sk-container-id-1 label.sk-toggleable__label {\n",
              "  cursor: pointer;\n",
              "  display: flex;\n",
              "  width: 100%;\n",
              "  margin-bottom: 0;\n",
              "  padding: 0.5em;\n",
              "  box-sizing: border-box;\n",
              "  text-align: center;\n",
              "  align-items: start;\n",
              "  justify-content: space-between;\n",
              "  gap: 0.5em;\n",
              "}\n",
              "\n",
              "#sk-container-id-1 label.sk-toggleable__label .caption {\n",
              "  font-size: 0.6rem;\n",
              "  font-weight: lighter;\n",
              "  color: var(--sklearn-color-text-muted);\n",
              "}\n",
              "\n",
              "#sk-container-id-1 label.sk-toggleable__label-arrow:before {\n",
              "  /* Arrow on the left of the label */\n",
              "  content: \"▸\";\n",
              "  float: left;\n",
              "  margin-right: 0.25em;\n",
              "  color: var(--sklearn-color-icon);\n",
              "}\n",
              "\n",
              "#sk-container-id-1 label.sk-toggleable__label-arrow:hover:before {\n",
              "  color: var(--sklearn-color-text);\n",
              "}\n",
              "\n",
              "/* Toggleable content - dropdown */\n",
              "\n",
              "#sk-container-id-1 div.sk-toggleable__content {\n",
              "  max-height: 0;\n",
              "  max-width: 0;\n",
              "  overflow: hidden;\n",
              "  text-align: left;\n",
              "  /* unfitted */\n",
              "  background-color: var(--sklearn-color-unfitted-level-0);\n",
              "}\n",
              "\n",
              "#sk-container-id-1 div.sk-toggleable__content.fitted {\n",
              "  /* fitted */\n",
              "  background-color: var(--sklearn-color-fitted-level-0);\n",
              "}\n",
              "\n",
              "#sk-container-id-1 div.sk-toggleable__content pre {\n",
              "  margin: 0.2em;\n",
              "  border-radius: 0.25em;\n",
              "  color: var(--sklearn-color-text);\n",
              "  /* unfitted */\n",
              "  background-color: var(--sklearn-color-unfitted-level-0);\n",
              "}\n",
              "\n",
              "#sk-container-id-1 div.sk-toggleable__content.fitted pre {\n",
              "  /* unfitted */\n",
              "  background-color: var(--sklearn-color-fitted-level-0);\n",
              "}\n",
              "\n",
              "#sk-container-id-1 input.sk-toggleable__control:checked~div.sk-toggleable__content {\n",
              "  /* Expand drop-down */\n",
              "  max-height: 200px;\n",
              "  max-width: 100%;\n",
              "  overflow: auto;\n",
              "}\n",
              "\n",
              "#sk-container-id-1 input.sk-toggleable__control:checked~label.sk-toggleable__label-arrow:before {\n",
              "  content: \"▾\";\n",
              "}\n",
              "\n",
              "/* Pipeline/ColumnTransformer-specific style */\n",
              "\n",
              "#sk-container-id-1 div.sk-label input.sk-toggleable__control:checked~label.sk-toggleable__label {\n",
              "  color: var(--sklearn-color-text);\n",
              "  background-color: var(--sklearn-color-unfitted-level-2);\n",
              "}\n",
              "\n",
              "#sk-container-id-1 div.sk-label.fitted input.sk-toggleable__control:checked~label.sk-toggleable__label {\n",
              "  background-color: var(--sklearn-color-fitted-level-2);\n",
              "}\n",
              "\n",
              "/* Estimator-specific style */\n",
              "\n",
              "/* Colorize estimator box */\n",
              "#sk-container-id-1 div.sk-estimator input.sk-toggleable__control:checked~label.sk-toggleable__label {\n",
              "  /* unfitted */\n",
              "  background-color: var(--sklearn-color-unfitted-level-2);\n",
              "}\n",
              "\n",
              "#sk-container-id-1 div.sk-estimator.fitted input.sk-toggleable__control:checked~label.sk-toggleable__label {\n",
              "  /* fitted */\n",
              "  background-color: var(--sklearn-color-fitted-level-2);\n",
              "}\n",
              "\n",
              "#sk-container-id-1 div.sk-label label.sk-toggleable__label,\n",
              "#sk-container-id-1 div.sk-label label {\n",
              "  /* The background is the default theme color */\n",
              "  color: var(--sklearn-color-text-on-default-background);\n",
              "}\n",
              "\n",
              "/* On hover, darken the color of the background */\n",
              "#sk-container-id-1 div.sk-label:hover label.sk-toggleable__label {\n",
              "  color: var(--sklearn-color-text);\n",
              "  background-color: var(--sklearn-color-unfitted-level-2);\n",
              "}\n",
              "\n",
              "/* Label box, darken color on hover, fitted */\n",
              "#sk-container-id-1 div.sk-label.fitted:hover label.sk-toggleable__label.fitted {\n",
              "  color: var(--sklearn-color-text);\n",
              "  background-color: var(--sklearn-color-fitted-level-2);\n",
              "}\n",
              "\n",
              "/* Estimator label */\n",
              "\n",
              "#sk-container-id-1 div.sk-label label {\n",
              "  font-family: monospace;\n",
              "  font-weight: bold;\n",
              "  display: inline-block;\n",
              "  line-height: 1.2em;\n",
              "}\n",
              "\n",
              "#sk-container-id-1 div.sk-label-container {\n",
              "  text-align: center;\n",
              "}\n",
              "\n",
              "/* Estimator-specific */\n",
              "#sk-container-id-1 div.sk-estimator {\n",
              "  font-family: monospace;\n",
              "  border: 1px dotted var(--sklearn-color-border-box);\n",
              "  border-radius: 0.25em;\n",
              "  box-sizing: border-box;\n",
              "  margin-bottom: 0.5em;\n",
              "  /* unfitted */\n",
              "  background-color: var(--sklearn-color-unfitted-level-0);\n",
              "}\n",
              "\n",
              "#sk-container-id-1 div.sk-estimator.fitted {\n",
              "  /* fitted */\n",
              "  background-color: var(--sklearn-color-fitted-level-0);\n",
              "}\n",
              "\n",
              "/* on hover */\n",
              "#sk-container-id-1 div.sk-estimator:hover {\n",
              "  /* unfitted */\n",
              "  background-color: var(--sklearn-color-unfitted-level-2);\n",
              "}\n",
              "\n",
              "#sk-container-id-1 div.sk-estimator.fitted:hover {\n",
              "  /* fitted */\n",
              "  background-color: var(--sklearn-color-fitted-level-2);\n",
              "}\n",
              "\n",
              "/* Specification for estimator info (e.g. \"i\" and \"?\") */\n",
              "\n",
              "/* Common style for \"i\" and \"?\" */\n",
              "\n",
              ".sk-estimator-doc-link,\n",
              "a:link.sk-estimator-doc-link,\n",
              "a:visited.sk-estimator-doc-link {\n",
              "  float: right;\n",
              "  font-size: smaller;\n",
              "  line-height: 1em;\n",
              "  font-family: monospace;\n",
              "  background-color: var(--sklearn-color-background);\n",
              "  border-radius: 1em;\n",
              "  height: 1em;\n",
              "  width: 1em;\n",
              "  text-decoration: none !important;\n",
              "  margin-left: 0.5em;\n",
              "  text-align: center;\n",
              "  /* unfitted */\n",
              "  border: var(--sklearn-color-unfitted-level-1) 1pt solid;\n",
              "  color: var(--sklearn-color-unfitted-level-1);\n",
              "}\n",
              "\n",
              ".sk-estimator-doc-link.fitted,\n",
              "a:link.sk-estimator-doc-link.fitted,\n",
              "a:visited.sk-estimator-doc-link.fitted {\n",
              "  /* fitted */\n",
              "  border: var(--sklearn-color-fitted-level-1) 1pt solid;\n",
              "  color: var(--sklearn-color-fitted-level-1);\n",
              "}\n",
              "\n",
              "/* On hover */\n",
              "div.sk-estimator:hover .sk-estimator-doc-link:hover,\n",
              ".sk-estimator-doc-link:hover,\n",
              "div.sk-label-container:hover .sk-estimator-doc-link:hover,\n",
              ".sk-estimator-doc-link:hover {\n",
              "  /* unfitted */\n",
              "  background-color: var(--sklearn-color-unfitted-level-3);\n",
              "  color: var(--sklearn-color-background);\n",
              "  text-decoration: none;\n",
              "}\n",
              "\n",
              "div.sk-estimator.fitted:hover .sk-estimator-doc-link.fitted:hover,\n",
              ".sk-estimator-doc-link.fitted:hover,\n",
              "div.sk-label-container:hover .sk-estimator-doc-link.fitted:hover,\n",
              ".sk-estimator-doc-link.fitted:hover {\n",
              "  /* fitted */\n",
              "  background-color: var(--sklearn-color-fitted-level-3);\n",
              "  color: var(--sklearn-color-background);\n",
              "  text-decoration: none;\n",
              "}\n",
              "\n",
              "/* Span, style for the box shown on hovering the info icon */\n",
              ".sk-estimator-doc-link span {\n",
              "  display: none;\n",
              "  z-index: 9999;\n",
              "  position: relative;\n",
              "  font-weight: normal;\n",
              "  right: .2ex;\n",
              "  padding: .5ex;\n",
              "  margin: .5ex;\n",
              "  width: min-content;\n",
              "  min-width: 20ex;\n",
              "  max-width: 50ex;\n",
              "  color: var(--sklearn-color-text);\n",
              "  box-shadow: 2pt 2pt 4pt #999;\n",
              "  /* unfitted */\n",
              "  background: var(--sklearn-color-unfitted-level-0);\n",
              "  border: .5pt solid var(--sklearn-color-unfitted-level-3);\n",
              "}\n",
              "\n",
              ".sk-estimator-doc-link.fitted span {\n",
              "  /* fitted */\n",
              "  background: var(--sklearn-color-fitted-level-0);\n",
              "  border: var(--sklearn-color-fitted-level-3);\n",
              "}\n",
              "\n",
              ".sk-estimator-doc-link:hover span {\n",
              "  display: block;\n",
              "}\n",
              "\n",
              "/* \"?\"-specific style due to the `<a>` HTML tag */\n",
              "\n",
              "#sk-container-id-1 a.estimator_doc_link {\n",
              "  float: right;\n",
              "  font-size: 1rem;\n",
              "  line-height: 1em;\n",
              "  font-family: monospace;\n",
              "  background-color: var(--sklearn-color-background);\n",
              "  border-radius: 1rem;\n",
              "  height: 1rem;\n",
              "  width: 1rem;\n",
              "  text-decoration: none;\n",
              "  /* unfitted */\n",
              "  color: var(--sklearn-color-unfitted-level-1);\n",
              "  border: var(--sklearn-color-unfitted-level-1) 1pt solid;\n",
              "}\n",
              "\n",
              "#sk-container-id-1 a.estimator_doc_link.fitted {\n",
              "  /* fitted */\n",
              "  border: var(--sklearn-color-fitted-level-1) 1pt solid;\n",
              "  color: var(--sklearn-color-fitted-level-1);\n",
              "}\n",
              "\n",
              "/* On hover */\n",
              "#sk-container-id-1 a.estimator_doc_link:hover {\n",
              "  /* unfitted */\n",
              "  background-color: var(--sklearn-color-unfitted-level-3);\n",
              "  color: var(--sklearn-color-background);\n",
              "  text-decoration: none;\n",
              "}\n",
              "\n",
              "#sk-container-id-1 a.estimator_doc_link.fitted:hover {\n",
              "  /* fitted */\n",
              "  background-color: var(--sklearn-color-fitted-level-3);\n",
              "}\n",
              "</style><div id=\"sk-container-id-1\" class=\"sk-top-container\"><div class=\"sk-text-repr-fallback\"><pre>NearestNeighbors(metric=&#x27;cosine&#x27;, n_neighbors=10)</pre><b>In a Jupyter environment, please rerun this cell to show the HTML representation or trust the notebook. <br />On GitHub, the HTML representation is unable to render, please try loading this page with nbviewer.org.</b></div><div class=\"sk-container\" hidden><div class=\"sk-item\"><div class=\"sk-estimator fitted sk-toggleable\"><input class=\"sk-toggleable__control sk-hidden--visually\" id=\"sk-estimator-id-1\" type=\"checkbox\" checked><label for=\"sk-estimator-id-1\" class=\"sk-toggleable__label fitted sk-toggleable__label-arrow\"><div><div>NearestNeighbors</div></div><div><a class=\"sk-estimator-doc-link fitted\" rel=\"noreferrer\" target=\"_blank\" href=\"https://scikit-learn.org/1.6/modules/generated/sklearn.neighbors.NearestNeighbors.html\">?<span>Documentation for NearestNeighbors</span></a><span class=\"sk-estimator-doc-link fitted\">i<span>Fitted</span></span></div></label><div class=\"sk-toggleable__content fitted\"><pre>NearestNeighbors(metric=&#x27;cosine&#x27;, n_neighbors=10)</pre></div> </div></div></div></div>"
            ],
            "text/plain": [
              "NearestNeighbors(metric='cosine', n_neighbors=10)"
            ]
          },
          "execution_count": 14,
          "metadata": {},
          "output_type": "execute_result"
        }
      ],
      "source": [
        "# Entrenar modelo de vecinos más cercanos\n",
        "model = NearestNeighbors(n_neighbors=10, metric='cosine')\n",
        "model.fit(all_features[:len(letterboxd_enriched)])  # Solo entrenar con tus películas calificadas"
      ]
    },
    {
      "cell_type": "code",
      "execution_count": 37,
      "metadata": {
        "id": "zrC1B9fFM8uA"
      },
      "outputs": [],
      "source": [
        "import ast\n",
        "\n",
        "def safe_literal_eval(s):\n",
        "    \"\"\"Convierte strings como \"['Action', 'Drama']\" en listas reales.\"\"\"\n",
        "    try:\n",
        "        return ast.literal_eval(s) if isinstance(s, str) else s\n",
        "    except (ValueError, SyntaxError):\n",
        "        return []  # Si falla, devuelve lista vacía\n",
        "\n",
        "# Aplicar a las columnas relevantes\n",
        "letterboxd_enriched['genres'] = letterboxd_enriched['genres'].apply(safe_literal_eval)\n",
        "letterboxd_enriched['directors'] = letterboxd_enriched['directors'].apply(safe_literal_eval)\n",
        "letterboxd_enriched['actors'] = letterboxd_enriched['actors'].apply(safe_literal_eval)\n",
        "imdb_enriched['genres'] = imdb_enriched['genres'].apply(safe_literal_eval)\n",
        "imdb_enriched['directors'] = imdb_enriched['directors'].apply(safe_literal_eval)\n",
        "imdb_enriched['actors'] = imdb_enriched['actors'].apply(safe_literal_eval)"
      ]
    },
    {
      "cell_type": "code",
      "execution_count": 38,
      "metadata": {
        "id": "QkNzT-j5NO81"
      },
      "outputs": [],
      "source": [
        "def extract_user_preferences(user_ratings_df):\n",
        "    \"\"\"Analiza géneros, directores y años más frecuentes, ignorando valores vacíos o inválidos.\"\"\"\n",
        "    # Géneros más comunes (excluyendo strings vacíos o caracteres sueltos)\n",
        "    genres_flat = [g for genres in user_ratings_df['genres'] for g in genres if isinstance(g, str) and len(g) > 1]\n",
        "    top_genres = pd.Series(genres_flat).value_counts().index[:3].tolist()\n",
        "\n",
        "    # Directores más comunes (mismo filtro)\n",
        "    directors_flat = [d for directors in user_ratings_df['directors'] for d in directors if isinstance(d, str) and len(d) > 1]\n",
        "    top_directors = pd.Series(directors_flat).value_counts().index[:2].tolist()\n",
        "\n",
        "    # Directores más comunes (mismo filtro)\n",
        "    actors_flat = [a for actors in user_ratings_df['actors'] for a in actors if isinstance(a, str) and len(a) > 1]\n",
        "    top_actors = pd.Series(actors_flat).value_counts().index[:2].tolist()\n",
        "\n",
        "    preferences = {\n",
        "        'genres': top_genres if top_genres else ['Drama'],  # Valor por defecto si no hay datos\n",
        "        'directors': top_directors if top_directors else [],\n",
        "        'actors': top_actors if top_actors else [],\n",
        "        'avg_rating': float(user_ratings_df['user_rating'].mean())\n",
        "    }\n",
        "    return preferences\n",
        "user_prefs = extract_user_preferences(letterboxd_enriched)"
      ]
    },
    {
      "cell_type": "code",
      "execution_count": 39,
      "metadata": {
        "id": "gKYywUQINB7k"
      },
      "outputs": [],
      "source": [
        "# 1. Primero, crea el conjunto de películas calificadas\n",
        "rated_movies = set(\n",
        "    f\"{row['title'].lower().strip()} ({int(row['year'])})\"\n",
        "    for _, row in letterboxd_enriched.iterrows()\n",
        ")\n",
        "\n",
        "def recommend_based_on_genres_and_directors(top250_df, user_prefs, rated_movies, n_recommendations=10):\n",
        "    \"\"\"\n",
        "    Recomienda películas del Top 250 que NO estén en tus ratings,\n",
        "    basado solo en géneros y directores.\n",
        "    \"\"\"\n",
        "    # Filtrar películas no calificadas\n",
        "    top250_unrated = top250_df[\n",
        "        ~top250_df.apply(\n",
        "            lambda row: f\"{row['title'].lower().strip()} ({int(row['year'])})\" in rated_movies,\n",
        "            axis=1\n",
        "        )\n",
        "    ].copy()\n",
        "\n",
        "    # Si no hay suficientes películas, relajar el filtro (opcional)\n",
        "    if len(top250_unrated) < n_recommendations:\n",
        "        top250_unrated = top250_df.copy()\n",
        "        print(\"⚠️ Advertencia: No hay suficientes películas no calificadas. Mostrando algunas del Top 250 igualmente.\")\n",
        "\n",
        "    # Puntuación por géneros y directores (como antes)\n",
        "    top250_unrated['genre_score'] = top250_unrated['genres'].apply(\n",
        "        lambda x: sum(1 for g in x if g in user_prefs['genres'])\n",
        "    )\n",
        "    top250_unrated['director_score'] = top250_unrated['directors'].apply(\n",
        "        lambda x: 2 if any(d in x for d in user_prefs['directors']) else 0\n",
        "    )\n",
        "    top250_unrated['actor_score'] = top250_unrated['actors'].apply(\n",
        "        lambda x: 2 if any(a in x for a in user_prefs['actors']) else 0\n",
        "    )\n",
        "    top250_unrated['similarity_score'] = (\n",
        "        top250_unrated['genre_score'] + top250_unrated['director_score'] + top250_unrated['actor_score']\n",
        "    )\n",
        "\n",
        "    # Ordenar y retornar\n",
        "    recommendations = (\n",
        "        top250_unrated.sort_values('similarity_score', ascending=False)\n",
        "        .head(n_recommendations)\n",
        "    )\n",
        "    return recommendations"
      ]
    },
    {
      "cell_type": "code",
      "execution_count": 40,
      "metadata": {
        "colab": {
          "base_uri": "https://localhost:8080/"
        },
        "collapsed": true,
        "id": "oRUrHtRMNwax",
        "outputId": "4ae96224-e0c9-406d-d156-0e243b636d45"
      },
      "outputs": [
        {
          "name": "stdout",
          "output_type": "stream",
          "text": [
            "                           title  year  \\\n",
            "244               The Iron Giant  1999   \n",
            "186                  The General  1926   \n",
            "40                  The Prestige  2006   \n",
            "249           Dances with Wolves  1990   \n",
            "215                        Logan  2017   \n",
            "..                           ...   ...   \n",
            "58              Sunset Boulevard  1950   \n",
            "61            The Great Dictator  1940   \n",
            "63   Witness for the Prosecution  1957   \n",
            "71                       Amadeus  1984   \n",
            "75                    Braveheart  1995   \n",
            "\n",
            "                                                genres  \\\n",
            "244  [Animation, Action, Adventure, Comedy, Drama, ...   \n",
            "186            [Action, Adventure, Comedy, Drama, War]   \n",
            "40                  [Drama, Mystery, Sci-Fi, Thriller]   \n",
            "249                        [Adventure, Drama, Western]   \n",
            "215                  [Action, Drama, Sci-Fi, Thriller]   \n",
            "..                                                 ...   \n",
            "58                                  [Drama, Film-Noir]   \n",
            "61                                [Comedy, Drama, War]   \n",
            "63                   [Crime, Drama, Mystery, Thriller]   \n",
            "71                           [Biography, Drama, Music]   \n",
            "75                             [Biography, Drama, War]   \n",
            "\n",
            "                           directors  similarity_score  \n",
            "244                      [Brad Bird]                 5  \n",
            "186  [Clyde Bruckman, Buster Keaton]                 3  \n",
            "40               [Christopher Nolan]                 3  \n",
            "249                  [Kevin Costner]                 2  \n",
            "215                  [James Mangold]                 2  \n",
            "..                               ...               ...  \n",
            "58                    [Billy Wilder]                 1  \n",
            "61                 [Charles Chaplin]                 1  \n",
            "63                    [Billy Wilder]                 1  \n",
            "71                    [Milos Forman]                 1  \n",
            "75                      [Mel Gibson]                 1  \n",
            "\n",
            "[100 rows x 5 columns]\n"
          ]
        }
      ],
      "source": [
        "# Obtener recomendaciones (excluyendo tus ratings)\n",
        "recommendations = recommend_based_on_genres_and_directors(\n",
        "    imdb_enriched,\n",
        "    user_prefs,\n",
        "    rated_movies,\n",
        "    n_recommendations=100\n",
        ")\n",
        "\n",
        "# Mostrar resultados\n",
        "print(recommendations[['title', 'year', 'genres', 'directors', 'similarity_score']])"
      ]
    },
    {
      "cell_type": "code",
      "execution_count": 36,
      "metadata": {},
      "outputs": [
        {
          "name": "stdout",
          "output_type": "stream",
          "text": [
            "✅ Archivo exportado con 100 recomendaciones: recomendaciones_top100.xlsx\n"
          ]
        }
      ],
      "source": [
        "# 3. Exportar a Excel (todas las 100 recomendaciones)\n",
        "output_path = \"recomendaciones_top100.xlsx\"\n",
        "with pd.ExcelWriter(output_path, engine='openpyxl') as writer:\n",
        "    # Hoja principal con las 100 películas\n",
        "    recommendations.to_excel(writer, sheet_name='Top 100', index=False)\n",
        "    \n",
        "    # Hojas adicionales por género (opcional)\n",
        "    for genre in user_prefs['genres']:\n",
        "        genre_movies = recommendations[\n",
        "            recommendations['genres'].str.contains(genre, na=False)\n",
        "        ]\n",
        "        if not genre_movies.empty:\n",
        "            genre_movies.to_excel(writer, sheet_name=f'Género {genre[:20]}', index=False)  # Limita el nombre de la hoja\n",
        "\n",
        "print(f\"✅ Archivo exportado con 100 recomendaciones: {output_path}\")"
      ]
    },
    {
      "cell_type": "markdown",
      "metadata": {
        "id": "DyaN8Q_XujSc"
      },
      "source": [
        "## 6. Visualización de Resultados"
      ]
    },
    {
      "cell_type": "code",
      "execution_count": 30,
      "metadata": {
        "colab": {
          "base_uri": "https://localhost:8080/",
          "height": 564
        },
        "id": "xcaNrDB1uk2c",
        "outputId": "05c3dbf4-bd41-43f2-a9ef-c2f8d0abf194"
      },
      "outputs": [
        {
          "data": {
            "image/png": "[encoded data removed]",
            "text/plain": [
              "<Figure size 1000x600 with 1 Axes>"
            ]
          },
          "metadata": {},
          "output_type": "display_data"
        }
      ],
      "source": [
        "def mostrar_recomendaciones(df):\n",
        "    plt.figure(figsize=(10, 6))\n",
        "    sns.barplot(\n",
        "        x='similarity_score',  # Columna correcta\n",
        "        y='title',\n",
        "        data=df.sort_values('similarity_score', ascending=False),\n",
        "        palette='viridis'\n",
        "    )\n",
        "    plt.title('Similitud con Tus Preferencias')\n",
        "    plt.xlabel('Puntaje de Similitud')\n",
        "    plt.ylabel('Película')\n",
        "    plt.show()\n",
        "\n",
        "# Para hybrid_recommendations\n",
        "recommendations = recommend_based_on_genres_and_directors(imdb_enriched, user_prefs, rated_movies)\n",
        "mostrar_recomendaciones(recommendations)  # Usando la función actualizada"
      ]
    }
  ],
  "metadata": {
    "colab": {
      "provenance": [],
      "toc_visible": true
    },
    "kernelspec": {
      "display_name": "Python 3",
      "name": "python3"
    },
    "language_info": {
      "codemirror_mode": {
        "name": "ipython",
        "version": 3
      },
      "file_extension": ".py",
      "mimetype": "text/x-python",
      "name": "python",
      "nbconvert_exporter": "python",
      "pygments_lexer": "ipython3",
      "version": "3.11.7"
    }
  },
  "nbformat": 4,
  "nbformat_minor": 0
}
