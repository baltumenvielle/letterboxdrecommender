{
  "cells": [
    {
      "cell_type": "markdown",
      "metadata": {
        "id": "bI5mdVXnrpgm"
      },
      "source": [
        "# Sistema de Recomendación de Películas\n",
        "\n",
        "Este notebook crea un sistema de recomendación que sugiere películas del Top 1000 de IMDB basado en:\n",
        "- Ratings personales en Letterboxd\n",
        "- Año de la película\n",
        "- Géneros\n",
        "- Actores involucrados\n",
        "- Directores"
      ]
    },
    {
      "cell_type": "markdown",
      "metadata": {
        "id": "AgN_q9Zwrz2X"
      },
      "source": [
        "## 1. Configuración Inicial\n",
        "Primero, instalamos e importamos las librerías necesarias."
      ]
    },
    {
      "cell_type": "code",
      "execution_count": null,
      "metadata": {
        "colab": {
          "base_uri": "https://localhost:8080/"
        },
        "collapsed": true,
        "id": "vOFjBrxFqFBK",
        "outputId": "5cb1de51-8282-4552-ce88-e68d8c004282"
      },
      "outputs": [],
      "source": [
        "# Instalación de paquetes (ejecutar solo una vez)\n",
        "%pip install imdbpy scikit-learn pandas numpy matplotlib seaborn tqdm joblib"
      ]
    },
    {
      "cell_type": "code",
      "execution_count": 2,
      "metadata": {
        "id": "_Ny-ZCyLqJcG"
      },
      "outputs": [],
      "source": [
        "# Importaciones\n",
        "import pandas as pd\n",
        "import numpy as np\n",
        "from imdb import IMDb\n",
        "from sklearn.ensemble import RandomForestRegressor\n",
        "from sklearn.preprocessing import MultiLabelBinarizer\n",
        "from sklearn.model_selection import train_test_split \n",
        "from sklearn.metrics import mean_squared_error\n",
        "from concurrent.futures import ThreadPoolExecutor, as_completed\n",
        "import matplotlib.pyplot as plt\n",
        "import seaborn as sns\n",
        "from tqdm import tqdm\n",
        "import warnings\n",
        "\n",
        "# Configuración\n",
        "warnings.filterwarnings('ignore')\n",
        "pd.set_option('display.max_columns', None)\n",
        "sns.set_style(\"whitegrid\")\n",
        "ia = IMDb()"
      ]
    },
    {
      "cell_type": "markdown",
      "metadata": {
        "id": "p0pceKugsCAh"
      },
      "source": [
        "## 2. Carga de Datos\n",
        "\n",
        "Cargamos tus ratings de Letterboxd y el Top 1000 de IMDB.\n",
        "\n",
        "**Nota**: Se asume que se tienen estos archivos CSV."
      ]
    },
    {
      "cell_type": "code",
      "execution_count": 3,
      "metadata": {
        "id": "AzOURJlgsQ3b"
      },
      "outputs": [],
      "source": [
        "def cargar_datos():\n",
        "    \"\"\"Carga y prepara los datasets\"\"\"\n",
        "    # Cargar tus ratings de Letterboxd (ajusta los nombres de columnas)\n",
        "    letterboxd = pd.read_csv('letterboxd_ratings.csv')\n",
        "    letterboxd = letterboxd.rename(columns={\n",
        "        'Name': 'title',\n",
        "        'Year': 'year',\n",
        "        'Rating': 'rating'\n",
        "    })\n",
        "\n",
        "    # Cargar Top 1000 de IMDB (puedes generarlo con imdbpy si no tienes el CSV)\n",
        "    imdb_top = pd.read_csv('imdb_top1000.csv')\n",
        "    \n",
        "    return letterboxd, imdb_top"
      ]
    },
    {
      "cell_type": "code",
      "execution_count": 4,
      "metadata": {
        "colab": {
          "base_uri": "https://localhost:8080/",
          "height": 259
        },
        "id": "UXWvCs5UusqY",
        "outputId": "cf74e38e-3119-40e0-dfbb-2a6595cc87aa"
      },
      "outputs": [],
      "source": [
        "letterboxd_ratings, imdb_top = cargar_datos()"
      ]
    },
    {
      "cell_type": "markdown",
      "metadata": {
        "id": "dimBOwb9sXn5"
      },
      "source": [
        "## 3. Enriquecimiento de Datos\n",
        "\n",
        "Vamos a obtener información adicional de IMDB para las películas calificadas."
      ]
    },
    {
      "cell_type": "code",
      "execution_count": 5,
      "metadata": {},
      "outputs": [],
      "source": [
        "def serializar(df):\n",
        "  df = df[['title', 'year', 'imdb_rating', 'genres', 'directors', 'actors', 'runtime']]\n",
        "  \n",
        "  df['genres'] = df['genres'].apply(lambda x: [item.strip() for item in x.split(',')])\n",
        "  df['directors'] = df['directors'].apply(lambda x: [item.strip() for item in x.split(',')])\n",
        "  df['actors'] = df['actors'].apply(lambda x: [item.strip() for item in x.split(',')])\n",
        "\n",
        "  # Convertir tiempo de ejecución a minutos\n",
        "  def convert_runtime(runtime):\n",
        "    try:\n",
        "        parts = runtime.split(\"h \")\n",
        "        hours = int(parts[0]) * 60 if parts[0].isdigit() else 0\n",
        "        minutes = int(parts[1].replace(\"m\", \"\")) if len(parts) > 1 and parts[1].replace(\"m\", \"\").isdigit() else 0\n",
        "        return int(hours + minutes)\n",
        "    except:\n",
        "        return None\n",
        "\n",
        "  df[\"runtime\"] = df[\"runtime\"].apply(convert_runtime)\n",
        "\n",
        "  return df"
      ]
    },
    {
      "cell_type": "code",
      "execution_count": 6,
      "metadata": {},
      "outputs": [],
      "source": [
        "df_top_global = None"
      ]
    },
    {
      "cell_type": "code",
      "execution_count": 7,
      "metadata": {},
      "outputs": [],
      "source": [
        "def obtener_info_local(title, year, df_top):\n",
        "    \"\"\"Busca los datos en el CSV local\"\"\"\n",
        "    filtered_df = df_top[df_top['title'] == title]\n",
        "    if not filtered_df.empty:\n",
        "        movie = filtered_df.iloc[0]\n",
        "        return {\n",
        "            'title': movie['title'],\n",
        "            'year': movie.get('year', year),\n",
        "            'imdb_rating': movie.get('imdb_rating', np.nan),\n",
        "            'genres': movie.get('genres', []),\n",
        "            'directors': movie.get('directors', []),\n",
        "            'actors': movie.get('actors', [])[:10],\n",
        "            'runtime': movie.get('runtime', 0)\n",
        "        }\n",
        "    return None"
      ]
    },
    {
      "cell_type": "code",
      "execution_count": 8,
      "metadata": {
        "id": "xg9l5jBfsYB8"
      },
      "outputs": [],
      "source": [
        "def obtener_info_imdb(title, year):\n",
        "    \"\"\"Busca los datos usando la API de IMDb\"\"\"\n",
        "    try:\n",
        "        resultados = ia.search_movie(f\"{title} {year}\")\n",
        "        if not resultados:\n",
        "            return None\n",
        "\n",
        "        pelicula = ia.get_movie(resultados[0].movieID)\n",
        "        \n",
        "        return {\n",
        "            'title': pelicula.get('title', title),\n",
        "            'year': pelicula.get('year', year),\n",
        "            'imdb_rating': pelicula.get('rating', np.nan),\n",
        "            'genres': pelicula.get('genres', []),\n",
        "            'directors': [d['name'] for d in pelicula.get('directors', [])],\n",
        "            'actors': [a['name'] for a in pelicula.get('actors', [])][:10],\n",
        "            'runtime': pelicula.get('runtime', [0])[0] if pelicula.get('runtime') else 0\n",
        "        }\n",
        "    except Exception:\n",
        "        return None"
      ]
    },
    {
      "cell_type": "code",
      "execution_count": 9,
      "metadata": {
        "id": "OqaYIP6Guwvo"
      },
      "outputs": [],
      "source": [
        "def enriquecer_fila(fila):\n",
        "    \"\"\"Enriquece una fila con datos de IMDb, primero local, luego API\"\"\"\n",
        "    title = str(fila['title'])\n",
        "    year = fila['year']\n",
        "    \n",
        "    # Buscar primero en el CSV local\n",
        "    info = obtener_info_local(title, year, df_top_global)\n",
        "    \n",
        "    # Si no está, buscar con la API\n",
        "    if not info:\n",
        "        info = obtener_info_imdb(title, year)\n",
        "    \n",
        "    if info:\n",
        "        info['user_rating'] = fila['rating']\n",
        "    return info"
      ]
    },
    {
      "cell_type": "code",
      "execution_count": 10,
      "metadata": {},
      "outputs": [],
      "source": [
        "def enriquecer_datos(df, df_top, max_workers=20):\n",
        "    \"\"\"Añade datos de IMDB a un DataFrame usando concurrencia\"\"\"\n",
        "    global df_top_global\n",
        "    df_top_global = df_top  # guardar el dataframe para uso dentro de los threads\n",
        "\n",
        "    datos_enriquecidos = []\n",
        "    with ThreadPoolExecutor(max_workers=max_workers) as executor:\n",
        "        futuros = {executor.submit(enriquecer_fila, fila): fila for _, fila in df.iterrows()}\n",
        "        for futuro in tqdm(as_completed(futuros), total=len(futuros)):\n",
        "            resultado = futuro.result()\n",
        "            if resultado:\n",
        "                datos_enriquecidos.append(resultado)\n",
        "                \n",
        "    df_top_global = None  # limpiar después\n",
        "    return pd.DataFrame(datos_enriquecidos)"
      ]
    },
    {
      "cell_type": "code",
      "execution_count": 11,
      "metadata": {
        "colab": {
          "base_uri": "https://localhost:8080/",
          "height": 408
        },
        "id": "Ic5lfW_RuyNR",
        "outputId": "29ce0cc1-a78d-4276-a388-bfd63d525286"
      },
      "outputs": [
        {
          "name": "stdout",
          "output_type": "stream",
          "text": [
            "\n",
            " Dependiendo de la red, esto puede tardar más o menos\n",
            "\n",
            "Enriqueciendo los ratings de Letterboxd...\n"
          ]
        },
        {
          "name": "stderr",
          "output_type": "stream",
          "text": [
            "100%|██████████| 184/184 [00:41<00:00,  4.47it/s]"
          ]
        },
        {
          "name": "stdout",
          "output_type": "stream",
          "text": [
            "\n",
            "Películas enriquecidas: 184/184\n"
          ]
        },
        {
          "name": "stderr",
          "output_type": "stream",
          "text": [
            "\n"
          ]
        },
        {
          "data": {
            "text/html": [
              "<div>\n",
              "<style scoped>\n",
              "    .dataframe tbody tr th:only-of-type {\n",
              "        vertical-align: middle;\n",
              "    }\n",
              "\n",
              "    .dataframe tbody tr th {\n",
              "        vertical-align: top;\n",
              "    }\n",
              "\n",
              "    .dataframe thead th {\n",
              "        text-align: right;\n",
              "    }\n",
              "</style>\n",
              "<table border=\"1\" class=\"dataframe\">\n",
              "  <thead>\n",
              "    <tr style=\"text-align: right;\">\n",
              "      <th></th>\n",
              "      <th>title</th>\n",
              "      <th>year</th>\n",
              "      <th>imdb_rating</th>\n",
              "      <th>genres</th>\n",
              "      <th>directors</th>\n",
              "      <th>actors</th>\n",
              "      <th>runtime</th>\n",
              "      <th>user_rating</th>\n",
              "    </tr>\n",
              "  </thead>\n",
              "  <tbody>\n",
              "    <tr>\n",
              "      <th>0</th>\n",
              "      <td>About Time</td>\n",
              "      <td>2013</td>\n",
              "      <td>7.8</td>\n",
              "      <td>[Feel-Good Romance, Romantic Comedy, Time Trav...</td>\n",
              "      <td>[Richard Curtis]</td>\n",
              "      <td>[Domhnall Gleeson, Rachel McAdams, Bill Nighy,...</td>\n",
              "      <td>123.0</td>\n",
              "      <td>4.0</td>\n",
              "    </tr>\n",
              "    <tr>\n",
              "      <th>1</th>\n",
              "      <td>Batman Begins</td>\n",
              "      <td>2005</td>\n",
              "      <td>8.2</td>\n",
              "      <td>[Action Epic, Epic, Superhero, Tragedy, Action...</td>\n",
              "      <td>[Christopher Nolan]</td>\n",
              "      <td>[Christian Bale, Michael Caine, Ken Watanabe, ...</td>\n",
              "      <td>140.0</td>\n",
              "      <td>4.0</td>\n",
              "    </tr>\n",
              "  </tbody>\n",
              "</table>\n",
              "</div>"
            ],
            "text/plain": [
              "           title  year  imdb_rating  \\\n",
              "0     About Time  2013          7.8   \n",
              "1  Batman Begins  2005          8.2   \n",
              "\n",
              "                                              genres            directors  \\\n",
              "0  [Feel-Good Romance, Romantic Comedy, Time Trav...     [Richard Curtis]   \n",
              "1  [Action Epic, Epic, Superhero, Tragedy, Action...  [Christopher Nolan]   \n",
              "\n",
              "                                              actors runtime  user_rating  \n",
              "0  [Domhnall Gleeson, Rachel McAdams, Bill Nighy,...   123.0          4.0  \n",
              "1  [Christian Bale, Michael Caine, Ken Watanabe, ...   140.0          4.0  "
            ]
          },
          "metadata": {},
          "output_type": "display_data"
        },
        {
          "data": {
            "text/html": [
              "<div>\n",
              "<style scoped>\n",
              "    .dataframe tbody tr th:only-of-type {\n",
              "        vertical-align: middle;\n",
              "    }\n",
              "\n",
              "    .dataframe tbody tr th {\n",
              "        vertical-align: top;\n",
              "    }\n",
              "\n",
              "    .dataframe thead th {\n",
              "        text-align: right;\n",
              "    }\n",
              "</style>\n",
              "<table border=\"1\" class=\"dataframe\">\n",
              "  <thead>\n",
              "    <tr style=\"text-align: right;\">\n",
              "      <th></th>\n",
              "      <th>title</th>\n",
              "      <th>year</th>\n",
              "      <th>imdb_rating</th>\n",
              "      <th>genres</th>\n",
              "      <th>directors</th>\n",
              "      <th>actors</th>\n",
              "      <th>runtime</th>\n",
              "    </tr>\n",
              "  </thead>\n",
              "  <tbody>\n",
              "    <tr>\n",
              "      <th>0</th>\n",
              "      <td>The Cabinet of Dr. Caligari</td>\n",
              "      <td>1920</td>\n",
              "      <td>8.0</td>\n",
              "      <td>[Psychological Horror, Psychological Thriller,...</td>\n",
              "      <td>[Robert Wiene]</td>\n",
              "      <td>[Werner Krauss, Conrad Veidt, Friedrich Feher,...</td>\n",
              "      <td>67.0</td>\n",
              "    </tr>\n",
              "    <tr>\n",
              "      <th>1</th>\n",
              "      <td>The Kid</td>\n",
              "      <td>1921</td>\n",
              "      <td>8.2</td>\n",
              "      <td>[Buddy Comedy, Slapstick, Comedy, Drama, Family]</td>\n",
              "      <td>[Charles Chaplin]</td>\n",
              "      <td>[Charles Chaplin, Edna Purviance, Jackie Cooga...</td>\n",
              "      <td>68.0</td>\n",
              "    </tr>\n",
              "  </tbody>\n",
              "</table>\n",
              "</div>"
            ],
            "text/plain": [
              "                         title  year  imdb_rating  \\\n",
              "0  The Cabinet of Dr. Caligari  1920          8.0   \n",
              "1                      The Kid  1921          8.2   \n",
              "\n",
              "                                              genres          directors  \\\n",
              "0  [Psychological Horror, Psychological Thriller,...     [Robert Wiene]   \n",
              "1   [Buddy Comedy, Slapstick, Comedy, Drama, Family]  [Charles Chaplin]   \n",
              "\n",
              "                                              actors  runtime  \n",
              "0  [Werner Krauss, Conrad Veidt, Friedrich Feher,...     67.0  \n",
              "1  [Charles Chaplin, Edna Purviance, Jackie Cooga...     68.0  "
            ]
          },
          "metadata": {},
          "output_type": "display_data"
        }
      ],
      "source": [
        "# Enriquecer datos\n",
        "imdb_enriched = serializar(imdb_top)\n",
        "\n",
        "print(\"\\n Dependiendo de la red, esto puede tardar más o menos\")\n",
        "print(\"\\nEnriqueciendo los ratings de Letterboxd...\")\n",
        "letterboxd_enriched = enriquecer_datos(letterboxd_ratings, imdb_enriched)\n",
        "\n",
        "# Mostrar resultados\n",
        "print(f\"\\nPelículas enriquecidas: {len(letterboxd_enriched)}/{len(letterboxd_ratings)}\")\n",
        "display(letterboxd_enriched.head(2))\n",
        "display(imdb_enriched.head(2))"
      ]
    },
    {
      "cell_type": "code",
      "execution_count": 12,
      "metadata": {},
      "outputs": [],
      "source": [
        "# Filtrar las películas del top 250 que ya estén en el historial de Letterboxd\n",
        "watched_movies = imdb_enriched[imdb_enriched['title'].isin(letterboxd_enriched['title'])]\n",
        "\n",
        "unwatched_movies = imdb_enriched[~imdb_enriched['title'].isin(letterboxd_enriched['title'])]"
      ]
    },
    {
      "cell_type": "markdown",
      "metadata": {
        "id": "CM80dUvductv"
      },
      "source": [
        "## 4. Preprocesamiento de Datos"
      ]
    },
    {
      "cell_type": "code",
      "execution_count": 13,
      "metadata": {
        "id": "vWJjTRwRuzsD"
      },
      "outputs": [],
      "source": [
        "mlb_genres = MultiLabelBinarizer()\n",
        "mlb_directors = MultiLabelBinarizer()\n",
        "mlb_actors = MultiLabelBinarizer()\n",
        "\n",
        "letterboxd_enriched['genres'] = letterboxd_enriched['genres'].apply(lambda x: x if isinstance(x, list) else eval(x))\n",
        "letterboxd_enriched['directors'] = letterboxd_enriched['directors'].apply(lambda x: x if isinstance(x, list) else eval(x))\n",
        "letterboxd_enriched['actors'] = letterboxd_enriched['actors'].apply(lambda x: x if isinstance(x, list) else eval(x))\n",
        "\n",
        "imdb_enriched['genres'] = imdb_enriched['genres'].apply(lambda x: x if isinstance(x, list) else eval(x))\n",
        "imdb_enriched['directors'] = imdb_enriched['directors'].apply(lambda x: x if isinstance(x, list) else eval(x))\n",
        "imdb_enriched['actors'] = imdb_enriched['actors'].apply(lambda x: x if isinstance(x, list) else eval(x))"
      ]
    },
    {
      "cell_type": "code",
      "execution_count": 14,
      "metadata": {
        "id": "uSO38EM2FXNm"
      },
      "outputs": [],
      "source": [
        "# Preparar las características (features) y la variable objetivo (target) para las películas no vistas\n",
        "X_train = np.hstack([\n",
        "    mlb_genres.fit_transform(letterboxd_enriched['genres']),\n",
        "    mlb_directors.fit_transform(letterboxd_enriched['directors']),\n",
        "    mlb_actors.fit_transform(letterboxd_enriched['actors']),\n",
        "    letterboxd_enriched[['year', 'imdb_rating', 'runtime']].values\n",
        "])\n",
        "y_train = letterboxd_enriched['user_rating'].values"
      ]
    },
    {
      "cell_type": "markdown",
      "metadata": {
        "id": "mQRZhKybufd7"
      },
      "source": [
        "## 5. Modelado y Recomendación"
      ]
    },
    {
      "cell_type": "code",
      "execution_count": 15,
      "metadata": {
        "id": "Jx3fF3N5FZM_"
      },
      "outputs": [
        {
          "data": {
            "text/html": [
              "<style>#sk-container-id-1 {\n",
              "  /* Definition of color scheme common for light and dark mode */\n",
              "  --sklearn-color-text: #000;\n",
              "  --sklearn-color-text-muted: #666;\n",
              "  --sklearn-color-line: gray;\n",
              "  /* Definition of color scheme for unfitted estimators */\n",
              "  --sklearn-color-unfitted-level-0: #fff5e6;\n",
              "  --sklearn-color-unfitted-level-1: #f6e4d2;\n",
              "  --sklearn-color-unfitted-level-2: #ffe0b3;\n",
              "  --sklearn-color-unfitted-level-3: chocolate;\n",
              "  /* Definition of color scheme for fitted estimators */\n",
              "  --sklearn-color-fitted-level-0: #f0f8ff;\n",
              "  --sklearn-color-fitted-level-1: #d4ebff;\n",
              "  --sklearn-color-fitted-level-2: #b3dbfd;\n",
              "  --sklearn-color-fitted-level-3: cornflowerblue;\n",
              "\n",
              "  /* Specific color for light theme */\n",
              "  --sklearn-color-text-on-default-background: var(--sg-text-color, var(--theme-code-foreground, var(--jp-content-font-color1, black)));\n",
              "  --sklearn-color-background: var(--sg-background-color, var(--theme-background, var(--jp-layout-color0, white)));\n",
              "  --sklearn-color-border-box: var(--sg-text-color, var(--theme-code-foreground, var(--jp-content-font-color1, black)));\n",
              "  --sklearn-color-icon: #696969;\n",
              "\n",
              "  @media (prefers-color-scheme: dark) {\n",
              "    /* Redefinition of color scheme for dark theme */\n",
              "    --sklearn-color-text-on-default-background: var(--sg-text-color, var(--theme-code-foreground, var(--jp-content-font-color1, white)));\n",
              "    --sklearn-color-background: var(--sg-background-color, var(--theme-background, var(--jp-layout-color0, #111)));\n",
              "    --sklearn-color-border-box: var(--sg-text-color, var(--theme-code-foreground, var(--jp-content-font-color1, white)));\n",
              "    --sklearn-color-icon: #878787;\n",
              "  }\n",
              "}\n",
              "\n",
              "#sk-container-id-1 {\n",
              "  color: var(--sklearn-color-text);\n",
              "}\n",
              "\n",
              "#sk-container-id-1 pre {\n",
              "  padding: 0;\n",
              "}\n",
              "\n",
              "#sk-container-id-1 input.sk-hidden--visually {\n",
              "  border: 0;\n",
              "  clip: rect(1px 1px 1px 1px);\n",
              "  clip: rect(1px, 1px, 1px, 1px);\n",
              "  height: 1px;\n",
              "  margin: -1px;\n",
              "  overflow: hidden;\n",
              "  padding: 0;\n",
              "  position: absolute;\n",
              "  width: 1px;\n",
              "}\n",
              "\n",
              "#sk-container-id-1 div.sk-dashed-wrapped {\n",
              "  border: 1px dashed var(--sklearn-color-line);\n",
              "  margin: 0 0.4em 0.5em 0.4em;\n",
              "  box-sizing: border-box;\n",
              "  padding-bottom: 0.4em;\n",
              "  background-color: var(--sklearn-color-background);\n",
              "}\n",
              "\n",
              "#sk-container-id-1 div.sk-container {\n",
              "  /* jupyter's `normalize.less` sets `[hidden] { display: none; }`\n",
              "     but bootstrap.min.css set `[hidden] { display: none !important; }`\n",
              "     so we also need the `!important` here to be able to override the\n",
              "     default hidden behavior on the sphinx rendered scikit-learn.org.\n",
              "     See: https://github.com/scikit-learn/scikit-learn/issues/21755 */\n",
              "  display: inline-block !important;\n",
              "  position: relative;\n",
              "}\n",
              "\n",
              "#sk-container-id-1 div.sk-text-repr-fallback {\n",
              "  display: none;\n",
              "}\n",
              "\n",
              "div.sk-parallel-item,\n",
              "div.sk-serial,\n",
              "div.sk-item {\n",
              "  /* draw centered vertical line to link estimators */\n",
              "  background-image: linear-gradient(var(--sklearn-color-text-on-default-background), var(--sklearn-color-text-on-default-background));\n",
              "  background-size: 2px 100%;\n",
              "  background-repeat: no-repeat;\n",
              "  background-position: center center;\n",
              "}\n",
              "\n",
              "/* Parallel-specific style estimator block */\n",
              "\n",
              "#sk-container-id-1 div.sk-parallel-item::after {\n",
              "  content: \"\";\n",
              "  width: 100%;\n",
              "  border-bottom: 2px solid var(--sklearn-color-text-on-default-background);\n",
              "  flex-grow: 1;\n",
              "}\n",
              "\n",
              "#sk-container-id-1 div.sk-parallel {\n",
              "  display: flex;\n",
              "  align-items: stretch;\n",
              "  justify-content: center;\n",
              "  background-color: var(--sklearn-color-background);\n",
              "  position: relative;\n",
              "}\n",
              "\n",
              "#sk-container-id-1 div.sk-parallel-item {\n",
              "  display: flex;\n",
              "  flex-direction: column;\n",
              "}\n",
              "\n",
              "#sk-container-id-1 div.sk-parallel-item:first-child::after {\n",
              "  align-self: flex-end;\n",
              "  width: 50%;\n",
              "}\n",
              "\n",
              "#sk-container-id-1 div.sk-parallel-item:last-child::after {\n",
              "  align-self: flex-start;\n",
              "  width: 50%;\n",
              "}\n",
              "\n",
              "#sk-container-id-1 div.sk-parallel-item:only-child::after {\n",
              "  width: 0;\n",
              "}\n",
              "\n",
              "/* Serial-specific style estimator block */\n",
              "\n",
              "#sk-container-id-1 div.sk-serial {\n",
              "  display: flex;\n",
              "  flex-direction: column;\n",
              "  align-items: center;\n",
              "  background-color: var(--sklearn-color-background);\n",
              "  padding-right: 1em;\n",
              "  padding-left: 1em;\n",
              "}\n",
              "\n",
              "\n",
              "/* Toggleable style: style used for estimator/Pipeline/ColumnTransformer box that is\n",
              "clickable and can be expanded/collapsed.\n",
              "- Pipeline and ColumnTransformer use this feature and define the default style\n",
              "- Estimators will overwrite some part of the style using the `sk-estimator` class\n",
              "*/\n",
              "\n",
              "/* Pipeline and ColumnTransformer style (default) */\n",
              "\n",
              "#sk-container-id-1 div.sk-toggleable {\n",
              "  /* Default theme specific background. It is overwritten whether we have a\n",
              "  specific estimator or a Pipeline/ColumnTransformer */\n",
              "  background-color: var(--sklearn-color-background);\n",
              "}\n",
              "\n",
              "/* Toggleable label */\n",
              "#sk-container-id-1 label.sk-toggleable__label {\n",
              "  cursor: pointer;\n",
              "  display: flex;\n",
              "  width: 100%;\n",
              "  margin-bottom: 0;\n",
              "  padding: 0.5em;\n",
              "  box-sizing: border-box;\n",
              "  text-align: center;\n",
              "  align-items: start;\n",
              "  justify-content: space-between;\n",
              "  gap: 0.5em;\n",
              "}\n",
              "\n",
              "#sk-container-id-1 label.sk-toggleable__label .caption {\n",
              "  font-size: 0.6rem;\n",
              "  font-weight: lighter;\n",
              "  color: var(--sklearn-color-text-muted);\n",
              "}\n",
              "\n",
              "#sk-container-id-1 label.sk-toggleable__label-arrow:before {\n",
              "  /* Arrow on the left of the label */\n",
              "  content: \"▸\";\n",
              "  float: left;\n",
              "  margin-right: 0.25em;\n",
              "  color: var(--sklearn-color-icon);\n",
              "}\n",
              "\n",
              "#sk-container-id-1 label.sk-toggleable__label-arrow:hover:before {\n",
              "  color: var(--sklearn-color-text);\n",
              "}\n",
              "\n",
              "/* Toggleable content - dropdown */\n",
              "\n",
              "#sk-container-id-1 div.sk-toggleable__content {\n",
              "  max-height: 0;\n",
              "  max-width: 0;\n",
              "  overflow: hidden;\n",
              "  text-align: left;\n",
              "  /* unfitted */\n",
              "  background-color: var(--sklearn-color-unfitted-level-0);\n",
              "}\n",
              "\n",
              "#sk-container-id-1 div.sk-toggleable__content.fitted {\n",
              "  /* fitted */\n",
              "  background-color: var(--sklearn-color-fitted-level-0);\n",
              "}\n",
              "\n",
              "#sk-container-id-1 div.sk-toggleable__content pre {\n",
              "  margin: 0.2em;\n",
              "  border-radius: 0.25em;\n",
              "  color: var(--sklearn-color-text);\n",
              "  /* unfitted */\n",
              "  background-color: var(--sklearn-color-unfitted-level-0);\n",
              "}\n",
              "\n",
              "#sk-container-id-1 div.sk-toggleable__content.fitted pre {\n",
              "  /* unfitted */\n",
              "  background-color: var(--sklearn-color-fitted-level-0);\n",
              "}\n",
              "\n",
              "#sk-container-id-1 input.sk-toggleable__control:checked~div.sk-toggleable__content {\n",
              "  /* Expand drop-down */\n",
              "  max-height: 200px;\n",
              "  max-width: 100%;\n",
              "  overflow: auto;\n",
              "}\n",
              "\n",
              "#sk-container-id-1 input.sk-toggleable__control:checked~label.sk-toggleable__label-arrow:before {\n",
              "  content: \"▾\";\n",
              "}\n",
              "\n",
              "/* Pipeline/ColumnTransformer-specific style */\n",
              "\n",
              "#sk-container-id-1 div.sk-label input.sk-toggleable__control:checked~label.sk-toggleable__label {\n",
              "  color: var(--sklearn-color-text);\n",
              "  background-color: var(--sklearn-color-unfitted-level-2);\n",
              "}\n",
              "\n",
              "#sk-container-id-1 div.sk-label.fitted input.sk-toggleable__control:checked~label.sk-toggleable__label {\n",
              "  background-color: var(--sklearn-color-fitted-level-2);\n",
              "}\n",
              "\n",
              "/* Estimator-specific style */\n",
              "\n",
              "/* Colorize estimator box */\n",
              "#sk-container-id-1 div.sk-estimator input.sk-toggleable__control:checked~label.sk-toggleable__label {\n",
              "  /* unfitted */\n",
              "  background-color: var(--sklearn-color-unfitted-level-2);\n",
              "}\n",
              "\n",
              "#sk-container-id-1 div.sk-estimator.fitted input.sk-toggleable__control:checked~label.sk-toggleable__label {\n",
              "  /* fitted */\n",
              "  background-color: var(--sklearn-color-fitted-level-2);\n",
              "}\n",
              "\n",
              "#sk-container-id-1 div.sk-label label.sk-toggleable__label,\n",
              "#sk-container-id-1 div.sk-label label {\n",
              "  /* The background is the default theme color */\n",
              "  color: var(--sklearn-color-text-on-default-background);\n",
              "}\n",
              "\n",
              "/* On hover, darken the color of the background */\n",
              "#sk-container-id-1 div.sk-label:hover label.sk-toggleable__label {\n",
              "  color: var(--sklearn-color-text);\n",
              "  background-color: var(--sklearn-color-unfitted-level-2);\n",
              "}\n",
              "\n",
              "/* Label box, darken color on hover, fitted */\n",
              "#sk-container-id-1 div.sk-label.fitted:hover label.sk-toggleable__label.fitted {\n",
              "  color: var(--sklearn-color-text);\n",
              "  background-color: var(--sklearn-color-fitted-level-2);\n",
              "}\n",
              "\n",
              "/* Estimator label */\n",
              "\n",
              "#sk-container-id-1 div.sk-label label {\n",
              "  font-family: monospace;\n",
              "  font-weight: bold;\n",
              "  display: inline-block;\n",
              "  line-height: 1.2em;\n",
              "}\n",
              "\n",
              "#sk-container-id-1 div.sk-label-container {\n",
              "  text-align: center;\n",
              "}\n",
              "\n",
              "/* Estimator-specific */\n",
              "#sk-container-id-1 div.sk-estimator {\n",
              "  font-family: monospace;\n",
              "  border: 1px dotted var(--sklearn-color-border-box);\n",
              "  border-radius: 0.25em;\n",
              "  box-sizing: border-box;\n",
              "  margin-bottom: 0.5em;\n",
              "  /* unfitted */\n",
              "  background-color: var(--sklearn-color-unfitted-level-0);\n",
              "}\n",
              "\n",
              "#sk-container-id-1 div.sk-estimator.fitted {\n",
              "  /* fitted */\n",
              "  background-color: var(--sklearn-color-fitted-level-0);\n",
              "}\n",
              "\n",
              "/* on hover */\n",
              "#sk-container-id-1 div.sk-estimator:hover {\n",
              "  /* unfitted */\n",
              "  background-color: var(--sklearn-color-unfitted-level-2);\n",
              "}\n",
              "\n",
              "#sk-container-id-1 div.sk-estimator.fitted:hover {\n",
              "  /* fitted */\n",
              "  background-color: var(--sklearn-color-fitted-level-2);\n",
              "}\n",
              "\n",
              "/* Specification for estimator info (e.g. \"i\" and \"?\") */\n",
              "\n",
              "/* Common style for \"i\" and \"?\" */\n",
              "\n",
              ".sk-estimator-doc-link,\n",
              "a:link.sk-estimator-doc-link,\n",
              "a:visited.sk-estimator-doc-link {\n",
              "  float: right;\n",
              "  font-size: smaller;\n",
              "  line-height: 1em;\n",
              "  font-family: monospace;\n",
              "  background-color: var(--sklearn-color-background);\n",
              "  border-radius: 1em;\n",
              "  height: 1em;\n",
              "  width: 1em;\n",
              "  text-decoration: none !important;\n",
              "  margin-left: 0.5em;\n",
              "  text-align: center;\n",
              "  /* unfitted */\n",
              "  border: var(--sklearn-color-unfitted-level-1) 1pt solid;\n",
              "  color: var(--sklearn-color-unfitted-level-1);\n",
              "}\n",
              "\n",
              ".sk-estimator-doc-link.fitted,\n",
              "a:link.sk-estimator-doc-link.fitted,\n",
              "a:visited.sk-estimator-doc-link.fitted {\n",
              "  /* fitted */\n",
              "  border: var(--sklearn-color-fitted-level-1) 1pt solid;\n",
              "  color: var(--sklearn-color-fitted-level-1);\n",
              "}\n",
              "\n",
              "/* On hover */\n",
              "div.sk-estimator:hover .sk-estimator-doc-link:hover,\n",
              ".sk-estimator-doc-link:hover,\n",
              "div.sk-label-container:hover .sk-estimator-doc-link:hover,\n",
              ".sk-estimator-doc-link:hover {\n",
              "  /* unfitted */\n",
              "  background-color: var(--sklearn-color-unfitted-level-3);\n",
              "  color: var(--sklearn-color-background);\n",
              "  text-decoration: none;\n",
              "}\n",
              "\n",
              "div.sk-estimator.fitted:hover .sk-estimator-doc-link.fitted:hover,\n",
              ".sk-estimator-doc-link.fitted:hover,\n",
              "div.sk-label-container:hover .sk-estimator-doc-link.fitted:hover,\n",
              ".sk-estimator-doc-link.fitted:hover {\n",
              "  /* fitted */\n",
              "  background-color: var(--sklearn-color-fitted-level-3);\n",
              "  color: var(--sklearn-color-background);\n",
              "  text-decoration: none;\n",
              "}\n",
              "\n",
              "/* Span, style for the box shown on hovering the info icon */\n",
              ".sk-estimator-doc-link span {\n",
              "  display: none;\n",
              "  z-index: 9999;\n",
              "  position: relative;\n",
              "  font-weight: normal;\n",
              "  right: .2ex;\n",
              "  padding: .5ex;\n",
              "  margin: .5ex;\n",
              "  width: min-content;\n",
              "  min-width: 20ex;\n",
              "  max-width: 50ex;\n",
              "  color: var(--sklearn-color-text);\n",
              "  box-shadow: 2pt 2pt 4pt #999;\n",
              "  /* unfitted */\n",
              "  background: var(--sklearn-color-unfitted-level-0);\n",
              "  border: .5pt solid var(--sklearn-color-unfitted-level-3);\n",
              "}\n",
              "\n",
              ".sk-estimator-doc-link.fitted span {\n",
              "  /* fitted */\n",
              "  background: var(--sklearn-color-fitted-level-0);\n",
              "  border: var(--sklearn-color-fitted-level-3);\n",
              "}\n",
              "\n",
              ".sk-estimator-doc-link:hover span {\n",
              "  display: block;\n",
              "}\n",
              "\n",
              "/* \"?\"-specific style due to the `<a>` HTML tag */\n",
              "\n",
              "#sk-container-id-1 a.estimator_doc_link {\n",
              "  float: right;\n",
              "  font-size: 1rem;\n",
              "  line-height: 1em;\n",
              "  font-family: monospace;\n",
              "  background-color: var(--sklearn-color-background);\n",
              "  border-radius: 1rem;\n",
              "  height: 1rem;\n",
              "  width: 1rem;\n",
              "  text-decoration: none;\n",
              "  /* unfitted */\n",
              "  color: var(--sklearn-color-unfitted-level-1);\n",
              "  border: var(--sklearn-color-unfitted-level-1) 1pt solid;\n",
              "}\n",
              "\n",
              "#sk-container-id-1 a.estimator_doc_link.fitted {\n",
              "  /* fitted */\n",
              "  border: var(--sklearn-color-fitted-level-1) 1pt solid;\n",
              "  color: var(--sklearn-color-fitted-level-1);\n",
              "}\n",
              "\n",
              "/* On hover */\n",
              "#sk-container-id-1 a.estimator_doc_link:hover {\n",
              "  /* unfitted */\n",
              "  background-color: var(--sklearn-color-unfitted-level-3);\n",
              "  color: var(--sklearn-color-background);\n",
              "  text-decoration: none;\n",
              "}\n",
              "\n",
              "#sk-container-id-1 a.estimator_doc_link.fitted:hover {\n",
              "  /* fitted */\n",
              "  background-color: var(--sklearn-color-fitted-level-3);\n",
              "}\n",
              "</style><div id=\"sk-container-id-1\" class=\"sk-top-container\"><div class=\"sk-text-repr-fallback\"><pre>RandomForestRegressor(max_depth=20, min_samples_leaf=5, n_estimators=200,\n",
              "                      random_state=42)</pre><b>In a Jupyter environment, please rerun this cell to show the HTML representation or trust the notebook. <br />On GitHub, the HTML representation is unable to render, please try loading this page with nbviewer.org.</b></div><div class=\"sk-container\" hidden><div class=\"sk-item\"><div class=\"sk-estimator fitted sk-toggleable\"><input class=\"sk-toggleable__control sk-hidden--visually\" id=\"sk-estimator-id-1\" type=\"checkbox\" checked><label for=\"sk-estimator-id-1\" class=\"sk-toggleable__label fitted sk-toggleable__label-arrow\"><div><div>RandomForestRegressor</div></div><div><a class=\"sk-estimator-doc-link fitted\" rel=\"noreferrer\" target=\"_blank\" href=\"https://scikit-learn.org/1.6/modules/generated/sklearn.ensemble.RandomForestRegressor.html\">?<span>Documentation for RandomForestRegressor</span></a><span class=\"sk-estimator-doc-link fitted\">i<span>Fitted</span></span></div></label><div class=\"sk-toggleable__content fitted\"><pre>RandomForestRegressor(max_depth=20, min_samples_leaf=5, n_estimators=200,\n",
              "                      random_state=42)</pre></div> </div></div></div></div>"
            ],
            "text/plain": [
              "RandomForestRegressor(max_depth=20, min_samples_leaf=5, n_estimators=200,\n",
              "                      random_state=42)"
            ]
          },
          "execution_count": 15,
          "metadata": {},
          "output_type": "execute_result"
        }
      ],
      "source": [
        "# Entrenar el modelo\n",
        "model = RandomForestRegressor(\n",
        "    n_estimators=200,\n",
        "    max_depth=20,\n",
        "    min_samples_leaf=5,\n",
        "    random_state=42\n",
        ")\n",
        "model.fit(X_train, y_train)"
      ]
    },
    {
      "cell_type": "code",
      "execution_count": 16,
      "metadata": {
        "colab": {
          "base_uri": "https://localhost:8080/",
          "height": 80
        },
        "id": "GWPFnM-RFhe5",
        "outputId": "a95353b5-4562-4ab2-eab4-9ce6f924287b"
      },
      "outputs": [],
      "source": [
        "# Predecir en películas no vistas del Top 1000 IMDb\n",
        "X_test = np.hstack([\n",
        "    mlb_genres.transform(unwatched_movies['genres']),\n",
        "    mlb_directors.transform(unwatched_movies['directors']),\n",
        "    mlb_actors.transform(unwatched_movies['actors']),\n",
        "    unwatched_movies[['year', 'imdb_rating', 'runtime']].values\n",
        "])"
      ]
    },
    {
      "cell_type": "code",
      "execution_count": 17,
      "metadata": {
        "id": "zrC1B9fFM8uA"
      },
      "outputs": [
        {
          "data": {
            "text/html": [
              "<div>\n",
              "<style scoped>\n",
              "    .dataframe tbody tr th:only-of-type {\n",
              "        vertical-align: middle;\n",
              "    }\n",
              "\n",
              "    .dataframe tbody tr th {\n",
              "        vertical-align: top;\n",
              "    }\n",
              "\n",
              "    .dataframe thead th {\n",
              "        text-align: right;\n",
              "    }\n",
              "</style>\n",
              "<table border=\"1\" class=\"dataframe\">\n",
              "  <thead>\n",
              "    <tr style=\"text-align: right;\">\n",
              "      <th></th>\n",
              "      <th>title</th>\n",
              "      <th>year</th>\n",
              "      <th>imdb_rating</th>\n",
              "      <th>genres</th>\n",
              "      <th>directors</th>\n",
              "      <th>actors</th>\n",
              "      <th>runtime</th>\n",
              "      <th>predicted_rating</th>\n",
              "    </tr>\n",
              "  </thead>\n",
              "  <tbody>\n",
              "    <tr>\n",
              "      <th>500</th>\n",
              "      <td>The Lord of the Rings: The Return of the King</td>\n",
              "      <td>2003</td>\n",
              "      <td>9.0</td>\n",
              "      <td>[Action Epic, Adventure Epic, Epic, Fantasy Ep...</td>\n",
              "      <td>[Peter Jackson]</td>\n",
              "      <td>[Elijah Wood, Viggo Mortensen, Ian McKellen, O...</td>\n",
              "      <td>201.0</td>\n",
              "      <td>4.456474</td>\n",
              "    </tr>\n",
              "    <tr>\n",
              "      <th>304</th>\n",
              "      <td>Amadeus</td>\n",
              "      <td>1984</td>\n",
              "      <td>8.4</td>\n",
              "      <td>[Costume Drama, Epic, Period Drama, Tragedy, B...</td>\n",
              "      <td>[Milos Forman]</td>\n",
              "      <td>[F. Murray Abraham, Tom Hulce, Elizabeth Berri...</td>\n",
              "      <td>160.0</td>\n",
              "      <td>4.420025</td>\n",
              "    </tr>\n",
              "    <tr>\n",
              "      <th>325</th>\n",
              "      <td>Come and See</td>\n",
              "      <td>1985</td>\n",
              "      <td>8.3</td>\n",
              "      <td>[Epic, Period Drama, Tragedy, War Epic, Drama,...</td>\n",
              "      <td>[Elem Klimov]</td>\n",
              "      <td>[Aleksey Kravchenko, Olga Mironova, Liubomiras...</td>\n",
              "      <td>142.0</td>\n",
              "      <td>4.405935</td>\n",
              "    </tr>\n",
              "    <tr>\n",
              "      <th>338</th>\n",
              "      <td>Nayakan</td>\n",
              "      <td>1987</td>\n",
              "      <td>8.6</td>\n",
              "      <td>[Epic, Gangster, Tragedy, Crime, Drama]</td>\n",
              "      <td>[Mani Ratnam]</td>\n",
              "      <td>[Kamal Haasan, Saranya Ponvannan, Delhi Ganesh...</td>\n",
              "      <td>145.0</td>\n",
              "      <td>4.395307</td>\n",
              "    </tr>\n",
              "    <tr>\n",
              "      <th>156</th>\n",
              "      <td>Lawrence of Arabia</td>\n",
              "      <td>1962</td>\n",
              "      <td>8.3</td>\n",
              "      <td>[Adventure Epic, Desert Adventure, Epic, Trage...</td>\n",
              "      <td>[David Lean]</td>\n",
              "      <td>[Peter O'Toole, Alec Guinness, Anthony Quinn, ...</td>\n",
              "      <td>227.0</td>\n",
              "      <td>4.395233</td>\n",
              "    </tr>\n",
              "  </tbody>\n",
              "</table>\n",
              "</div>"
            ],
            "text/plain": [
              "                                             title  year  imdb_rating  \\\n",
              "500  The Lord of the Rings: The Return of the King  2003          9.0   \n",
              "304                                        Amadeus  1984          8.4   \n",
              "325                                   Come and See  1985          8.3   \n",
              "338                                        Nayakan  1987          8.6   \n",
              "156                             Lawrence of Arabia  1962          8.3   \n",
              "\n",
              "                                                genres        directors  \\\n",
              "500  [Action Epic, Adventure Epic, Epic, Fantasy Ep...  [Peter Jackson]   \n",
              "304  [Costume Drama, Epic, Period Drama, Tragedy, B...   [Milos Forman]   \n",
              "325  [Epic, Period Drama, Tragedy, War Epic, Drama,...    [Elem Klimov]   \n",
              "338            [Epic, Gangster, Tragedy, Crime, Drama]    [Mani Ratnam]   \n",
              "156  [Adventure Epic, Desert Adventure, Epic, Trage...     [David Lean]   \n",
              "\n",
              "                                                actors  runtime  \\\n",
              "500  [Elijah Wood, Viggo Mortensen, Ian McKellen, O...    201.0   \n",
              "304  [F. Murray Abraham, Tom Hulce, Elizabeth Berri...    160.0   \n",
              "325  [Aleksey Kravchenko, Olga Mironova, Liubomiras...    142.0   \n",
              "338  [Kamal Haasan, Saranya Ponvannan, Delhi Ganesh...    145.0   \n",
              "156  [Peter O'Toole, Alec Guinness, Anthony Quinn, ...    227.0   \n",
              "\n",
              "     predicted_rating  \n",
              "500          4.456474  \n",
              "304          4.420025  \n",
              "325          4.405935  \n",
              "338          4.395307  \n",
              "156          4.395233  "
            ]
          },
          "metadata": {},
          "output_type": "display_data"
        }
      ],
      "source": [
        "y_pred = model.predict(X_test)\n",
        "unwatched_movies['predicted_rating'] = y_pred\n",
        "recommendations = unwatched_movies.sort_values(by='predicted_rating', ascending=False).head(100)\n",
        "\n",
        "# Chequeo de recomendaciones\n",
        "display(recommendations.head(5))"
      ]
    },
    {
      "cell_type": "markdown",
      "metadata": {},
      "source": [
        "## 6. Verificación del modelo"
      ]
    },
    {
      "cell_type": "code",
      "execution_count": 18,
      "metadata": {},
      "outputs": [],
      "source": [
        "# Split para validación\n",
        "X_train_part, X_val, y_train_part, y_val, val_titles_train, val_titles = train_test_split(\n",
        "    X_train, y_train, letterboxd_enriched['title'], test_size=0.4, random_state=42\n",
        ")\n",
        "\n",
        "# Entrenar con parte del set\n",
        "model.fit(X_train_part, y_train_part)\n",
        "\n",
        "# Validar con el resto\n",
        "y_val_pred = model.predict(X_val)"
      ]
    },
    {
      "cell_type": "code",
      "execution_count": 19,
      "metadata": {},
      "outputs": [
        {
          "name": "stdout",
          "output_type": "stream",
          "text": [
            "Validation MSE: 0.445\n",
            "Validation RMSE: 0.667\n"
          ]
        }
      ],
      "source": [
        "mse = mean_squared_error(y_val, y_val_pred)\n",
        "rmse = np.sqrt(mse)\n",
        "print(f\"Validation MSE: {mse:.3f}\")\n",
        "print(f\"Validation RMSE: {rmse:.3f}\")"
      ]
    },
    {
      "cell_type": "code",
      "execution_count": 20,
      "metadata": {},
      "outputs": [],
      "source": [
        "errors = np.abs(y_val - y_val_pred)\n",
        "\n",
        "# Crear DataFrame con resultados\n",
        "val_results = pd.DataFrame({\n",
        "    'title': val_titles,\n",
        "    'true_rating': y_val,\n",
        "    'predicted_rating': y_val_pred,\n",
        "    'error': errors \n",
        "})"
      ]
    },
    {
      "cell_type": "code",
      "execution_count": 21,
      "metadata": {},
      "outputs": [
        {
          "data": {
            "image/png": "[encoded data removed]",
            "text/plain": [
              "<Figure size 1200x600 with 1 Axes>"
            ]
          },
          "metadata": {},
          "output_type": "display_data"
        }
      ],
      "source": [
        "top_errors = val_results.sort_values(by='error', ascending=False).head(20)\n",
        "\n",
        "plt.figure(figsize=(12, 6))\n",
        "plt.barh(top_errors['title'], top_errors['error'], color='salmon')\n",
        "plt.xlabel(\"Error absoluto\")\n",
        "plt.ylabel(\"Película\")\n",
        "plt.title(\"Top 20 películas con mayor error de predicción\")\n",
        "plt.tight_layout()\n",
        "plt.gca().invert_yaxis()\n",
        "plt.show()"
      ]
    },
    {
      "cell_type": "code",
      "execution_count": 22,
      "metadata": {},
      "outputs": [
        {
          "data": {
            "image/png": "[encoded data removed]",
            "text/plain": [
              "<Figure size 1200x600 with 1 Axes>"
            ]
          },
          "metadata": {},
          "output_type": "display_data"
        }
      ],
      "source": [
        "best_predictions = val_results.sort_values(by='error').head(20)\n",
        "\n",
        "plt.figure(figsize=(12, 6))\n",
        "plt.barh(best_predictions['title'], best_predictions['error'], color='lightgreen')\n",
        "plt.xlabel(\"Error absoluto\")\n",
        "plt.ylabel(\"Película\")\n",
        "plt.title(\"Top 20 películas mejor predichas por el modelo\")\n",
        "plt.tight_layout()\n",
        "plt.gca().invert_yaxis()\n",
        "plt.show()"
      ]
    },
    {
      "cell_type": "code",
      "execution_count": 23,
      "metadata": {},
      "outputs": [
        {
          "data": {
            "image/png": "[encoded data removed]",
            "text/plain": [
              "<Figure size 800x600 with 1 Axes>"
            ]
          },
          "metadata": {},
          "output_type": "display_data"
        }
      ],
      "source": [
        "importances = model.feature_importances_\n",
        "\n",
        "# Si sabés el orden de tus features\n",
        "feature_names = list(mlb_genres.classes_) + \\\n",
        "                list(mlb_directors.classes_) + \\\n",
        "                list(mlb_actors.classes_) + \\\n",
        "                ['year', 'imdb_rating', 'runtime']\n",
        "\n",
        "feat_imp = pd.Series(importances, index=feature_names).sort_values(ascending=False)\n",
        "feat_imp.head(15).plot(kind='barh', title='Importancia de features', figsize=(8,6))\n",
        "plt.gca().invert_yaxis()\n",
        "plt.tight_layout()\n",
        "plt.show()"
      ]
    },
    {
      "cell_type": "markdown",
      "metadata": {},
      "source": [
        "## 7. Exportación de datos"
      ]
    },
    {
      "cell_type": "code",
      "execution_count": 24,
      "metadata": {},
      "outputs": [],
      "source": [
        "# Acorta los datos para que no aparezcan tantos actores en el .xlsx\n",
        "export = recommendations.copy()\n",
        "export['actors'] = export['actors'].apply(lambda x: x[:3])\n",
        "\n",
        "export.to_excel('letterboxd_recomendaciones.xlsx', index=False)"
      ]
    },
    {
      "cell_type": "markdown",
      "metadata": {},
      "source": [
        "# 8. Exportación del modelo"
      ]
    },
    {
      "cell_type": "code",
      "execution_count": null,
      "metadata": {},
      "outputs": [
        {
          "data": {
            "text/plain": [
              "['mlb_actors.pkl']"
            ]
          },
          "execution_count": 25,
          "metadata": {},
          "output_type": "execute_result"
        }
      ],
      "source": [
        "import joblib\n",
        "\n",
        "# Guardar el modelo y los binarizadores\n",
        "joblib.dump(model, 'modelo_recomendador.pkl')\n",
        "joblib.dump(mlb_genres, 'mlb_genres.pkl')\n",
        "joblib.dump(mlb_directors, 'mlb_directors.pkl')\n",
        "joblib.dump(mlb_actors, 'mlb_actors.pkl')"
      ]
    }
  ],
  "metadata": {
    "colab": {
      "provenance": [],
      "toc_visible": true
    },
    "kernelspec": {
      "display_name": "Python 3",
      "name": "python3"
    },
    "language_info": {
      "codemirror_mode": {
        "name": "ipython",
        "version": 3
      },
      "file_extension": ".py",
      "mimetype": "text/x-python",
      "name": "python",
      "nbconvert_exporter": "python",
      "pygments_lexer": "ipython3",
      "version": "3.11.7"
    }
  },
  "nbformat": 4,
  "nbformat_minor": 0
}
